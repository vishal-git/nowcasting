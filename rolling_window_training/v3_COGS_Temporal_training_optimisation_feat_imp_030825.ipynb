{
 "cells": [
  {
   "cell_type": "markdown",
   "id": "85204042",
   "metadata": {},
   "source": [
    "1. **Temporal cross-validation setup** \n",
    "   - Rolling window validation\n",
    "2. **Model fine-tuning using time series-aware grid search**\n",
    "3. **Extraction and storage of feature importance for each fold**\n",
    "4. **Analysis of most frequently selected hyperparameters and features**\n",
    "5. **Retraining with the dominant configuration**\n",
    "6. **Final performance evaluation**"
   ]
  },
  {
   "cell_type": "code",
   "execution_count": 2,
   "id": "4934e608",
   "metadata": {},
   "outputs": [],
   "source": [
    "target = 'cogs_eur'\n",
    "\n",
    "# this list was provided by Adam (current features in the causal model)\n",
    "columns_used_to_train = [\n",
    "'aov_eur',\n",
    "'available_stock_value_after_discount_complete_eur',\n",
    "'avg_temp',\n",
    "'cpc',\n",
    "'cr_tracked_%',\n",
    "'email_recipients',\n",
    "'email_visits',\n",
    "'internalWeeks_until_SeasonalSaleStart',\n",
    "'internal_Week_of_FW_Season',\n",
    "'internal_Week_of_SS_Season',\n",
    "'is_Peak_Driving_Public_Holiday_week',\n",
    "'is_Sun_to_Mon_Shift_week',\n",
    "'is_black_week_event',\n",
    "'is_email_campaign_type_deal',\n",
    "'is_email_campaign_type_liveshop',\n",
    "'is_email_campaign_type_newsletter',\n",
    "'is_percentage_on_top',\n",
    "'is_percentage_on_top_applicable',\n",
    "'is_season_sale_event',\n",
    "'is_temp_drop_flag',\n",
    "'number_days_after_last_event',\n",
    "'number_days_till_next_event',\n",
    "'number_orders',\n",
    "'number_visits',\n",
    "'sku_with_discount_%',\n",
    "'stock_discount_rate_total_%',\n",
    "'target_cpr']"
   ]
  },
  {
   "cell_type": "code",
   "execution_count": 3,
   "id": "4a8136c5",
   "metadata": {},
   "outputs": [],
   "source": [
    "import pandas as pd\n",
    "import numpy as np\n",
    "# from sklearn.ensemble import RandomForestRegressor\n",
    "import xgboost as xg\n",
    "from tqdm import tqdm\n",
    "from sklearn.model_selection import TimeSeriesSplit, GridSearchCV\n",
    "from sklearn.metrics import mean_squared_error, mean_absolute_error\n",
    "import matplotlib.pyplot as plt\n",
    "from sklearn.metrics import (\n",
    "    mean_absolute_error,\n",
    "    mean_squared_error,\n",
    "    r2_score,\n",
    "    mean_absolute_percentage_error,\n",
    "    explained_variance_score\n",
    ")\n",
    "\n",
    "# --- 1. Load & prep --------------------------------------------------------\n",
    "df = pd.read_csv(\"COGS_Data_for_taining_26072025.csv\", parse_dates=['Unnamed: 0'])\n",
    "df = df.rename(columns={'Unnamed: 0': 'date'})\n",
    "df = df.sort_values('date').set_index('date')\n",
    "\n",
    "X = df[columns_used_to_train].values\n",
    "y = df[target].values\n",
    "dates = df.index"
   ]
  },
  {
   "cell_type": "code",
   "execution_count": 4,
   "id": "d3198e04",
   "metadata": {},
   "outputs": [
    {
     "name": "stderr",
     "output_type": "stream",
     "text": [
      "  1%|          | 1/106 [00:12<21:29, 12.28s/it]"
     ]
    },
    {
     "name": "stdout",
     "output_type": "stream",
     "text": [
      "Fold 01: Train weeks 1-52, Test weeks 53-60 → MSE 40474391620.65, MAE 178983.37\n"
     ]
    },
    {
     "name": "stderr",
     "output_type": "stream",
     "text": [
      "  2%|▏         | 2/106 [00:16<13:22,  7.72s/it]"
     ]
    },
    {
     "name": "stdout",
     "output_type": "stream",
     "text": [
      "Fold 02: Train weeks 2-53, Test weeks 54-61 → MSE 30802325957.29, MAE 127117.93\n"
     ]
    },
    {
     "name": "stderr",
     "output_type": "stream",
     "text": [
      "  3%|▎         | 3/106 [00:21<11:02,  6.43s/it]"
     ]
    },
    {
     "name": "stdout",
     "output_type": "stream",
     "text": [
      "Fold 03: Train weeks 3-54, Test weeks 55-62 → MSE 8124045664.68, MAE 72827.88\n"
     ]
    },
    {
     "name": "stderr",
     "output_type": "stream",
     "text": [
      "  4%|▍         | 4/106 [00:26<09:56,  5.85s/it]"
     ]
    },
    {
     "name": "stdout",
     "output_type": "stream",
     "text": [
      "Fold 04: Train weeks 4-55, Test weeks 56-63 → MSE 5983184995.76, MAE 63199.72\n"
     ]
    },
    {
     "name": "stderr",
     "output_type": "stream",
     "text": [
      "  5%|▍         | 5/106 [00:33<10:23,  6.18s/it]"
     ]
    },
    {
     "name": "stdout",
     "output_type": "stream",
     "text": [
      "Fold 05: Train weeks 5-56, Test weeks 57-64 → MSE 4659220069.85, MAE 61902.93\n"
     ]
    },
    {
     "name": "stderr",
     "output_type": "stream",
     "text": [
      "  6%|▌         | 6/106 [00:38<09:57,  5.97s/it]"
     ]
    },
    {
     "name": "stdout",
     "output_type": "stream",
     "text": [
      "Fold 06: Train weeks 6-57, Test weeks 58-65 → MSE 12390767770.79, MAE 100918.96\n"
     ]
    },
    {
     "name": "stderr",
     "output_type": "stream",
     "text": [
      "  7%|▋         | 7/106 [00:43<08:55,  5.41s/it]"
     ]
    },
    {
     "name": "stdout",
     "output_type": "stream",
     "text": [
      "Fold 07: Train weeks 7-58, Test weeks 59-66 → MSE 13249094143.43, MAE 98990.01\n"
     ]
    },
    {
     "name": "stderr",
     "output_type": "stream",
     "text": [
      "  8%|▊         | 8/106 [00:49<09:02,  5.54s/it]"
     ]
    },
    {
     "name": "stdout",
     "output_type": "stream",
     "text": [
      "Fold 08: Train weeks 8-59, Test weeks 60-67 → MSE 7189572652.46, MAE 62656.64\n"
     ]
    },
    {
     "name": "stderr",
     "output_type": "stream",
     "text": [
      "  8%|▊         | 9/106 [00:56<10:00,  6.19s/it]"
     ]
    },
    {
     "name": "stdout",
     "output_type": "stream",
     "text": [
      "Fold 09: Train weeks 9-60, Test weeks 61-68 → MSE 16812944845.84, MAE 85691.45\n"
     ]
    },
    {
     "name": "stderr",
     "output_type": "stream",
     "text": [
      "  9%|▉         | 10/106 [01:02<09:31,  5.96s/it]"
     ]
    },
    {
     "name": "stdout",
     "output_type": "stream",
     "text": [
      "Fold 10: Train weeks 10-61, Test weeks 62-69 → MSE 17448574768.05, MAE 97702.54\n"
     ]
    },
    {
     "name": "stderr",
     "output_type": "stream",
     "text": [
      " 10%|█         | 11/106 [01:07<09:20,  5.90s/it]"
     ]
    },
    {
     "name": "stdout",
     "output_type": "stream",
     "text": [
      "Fold 11: Train weeks 11-62, Test weeks 63-70 → MSE 20668630203.19, MAE 99360.39\n"
     ]
    },
    {
     "name": "stderr",
     "output_type": "stream",
     "text": [
      " 11%|█▏        | 12/106 [01:13<08:53,  5.67s/it]"
     ]
    },
    {
     "name": "stdout",
     "output_type": "stream",
     "text": [
      "Fold 12: Train weeks 12-63, Test weeks 64-71 → MSE 22124286835.27, MAE 100826.18\n"
     ]
    },
    {
     "name": "stderr",
     "output_type": "stream",
     "text": [
      " 12%|█▏        | 13/106 [01:17<08:15,  5.33s/it]"
     ]
    },
    {
     "name": "stdout",
     "output_type": "stream",
     "text": [
      "Fold 13: Train weeks 13-64, Test weeks 65-72 → MSE 24377810067.42, MAE 105766.71\n"
     ]
    },
    {
     "name": "stderr",
     "output_type": "stream",
     "text": [
      " 13%|█▎        | 14/106 [01:23<08:36,  5.61s/it]"
     ]
    },
    {
     "name": "stdout",
     "output_type": "stream",
     "text": [
      "Fold 14: Train weeks 14-65, Test weeks 66-73 → MSE 29535163313.81, MAE 129607.22\n"
     ]
    },
    {
     "name": "stderr",
     "output_type": "stream",
     "text": [
      " 14%|█▍        | 15/106 [01:29<08:30,  5.61s/it]"
     ]
    },
    {
     "name": "stdout",
     "output_type": "stream",
     "text": [
      "Fold 15: Train weeks 15-66, Test weeks 67-74 → MSE 40543184146.76, MAE 157530.99\n"
     ]
    },
    {
     "name": "stderr",
     "output_type": "stream",
     "text": [
      " 15%|█▌        | 16/106 [01:34<08:03,  5.37s/it]"
     ]
    },
    {
     "name": "stdout",
     "output_type": "stream",
     "text": [
      "Fold 16: Train weeks 16-67, Test weeks 68-75 → MSE 41318380803.59, MAE 160105.22\n"
     ]
    },
    {
     "name": "stderr",
     "output_type": "stream",
     "text": [
      " 16%|█▌        | 17/106 [01:38<07:31,  5.07s/it]"
     ]
    },
    {
     "name": "stdout",
     "output_type": "stream",
     "text": [
      "Fold 17: Train weeks 17-68, Test weeks 69-76 → MSE 49947850609.87, MAE 168912.11\n"
     ]
    },
    {
     "name": "stderr",
     "output_type": "stream",
     "text": [
      " 17%|█▋        | 18/106 [01:43<07:10,  4.89s/it]"
     ]
    },
    {
     "name": "stdout",
     "output_type": "stream",
     "text": [
      "Fold 18: Train weeks 18-69, Test weeks 70-77 → MSE 71021531821.63, MAE 201969.78\n"
     ]
    },
    {
     "name": "stderr",
     "output_type": "stream",
     "text": [
      " 18%|█▊        | 19/106 [01:47<06:50,  4.72s/it]"
     ]
    },
    {
     "name": "stdout",
     "output_type": "stream",
     "text": [
      "Fold 19: Train weeks 19-70, Test weeks 71-78 → MSE 92221497489.90, MAE 258363.87\n"
     ]
    },
    {
     "name": "stderr",
     "output_type": "stream",
     "text": [
      " 19%|█▉        | 20/106 [01:52<06:47,  4.73s/it]"
     ]
    },
    {
     "name": "stdout",
     "output_type": "stream",
     "text": [
      "Fold 20: Train weeks 20-71, Test weeks 72-79 → MSE 95940470954.97, MAE 274952.95\n"
     ]
    },
    {
     "name": "stderr",
     "output_type": "stream",
     "text": [
      " 20%|█▉        | 21/106 [01:56<06:31,  4.60s/it]"
     ]
    },
    {
     "name": "stdout",
     "output_type": "stream",
     "text": [
      "Fold 21: Train weeks 21-72, Test weeks 73-80 → MSE 151829801875.30, MAE 330372.33\n"
     ]
    },
    {
     "name": "stderr",
     "output_type": "stream",
     "text": [
      " 21%|██        | 22/106 [02:00<06:23,  4.57s/it]"
     ]
    },
    {
     "name": "stdout",
     "output_type": "stream",
     "text": [
      "Fold 22: Train weeks 22-73, Test weeks 74-81 → MSE 69096606565.91, MAE 215522.80\n"
     ]
    },
    {
     "name": "stderr",
     "output_type": "stream",
     "text": [
      " 22%|██▏       | 23/106 [02:05<06:27,  4.67s/it]"
     ]
    },
    {
     "name": "stdout",
     "output_type": "stream",
     "text": [
      "Fold 23: Train weeks 23-74, Test weeks 75-82 → MSE 77313448959.59, MAE 251050.20\n"
     ]
    },
    {
     "name": "stderr",
     "output_type": "stream",
     "text": [
      " 23%|██▎       | 24/106 [02:10<06:22,  4.67s/it]"
     ]
    },
    {
     "name": "stdout",
     "output_type": "stream",
     "text": [
      "Fold 24: Train weeks 24-75, Test weeks 76-83 → MSE 80971251752.77, MAE 256548.30\n"
     ]
    },
    {
     "name": "stderr",
     "output_type": "stream",
     "text": [
      " 24%|██▎       | 25/106 [02:14<06:00,  4.45s/it]"
     ]
    },
    {
     "name": "stdout",
     "output_type": "stream",
     "text": [
      "Fold 25: Train weeks 25-76, Test weeks 77-84 → MSE 60411383177.23, MAE 210335.02\n"
     ]
    },
    {
     "name": "stderr",
     "output_type": "stream",
     "text": [
      " 25%|██▍       | 26/106 [02:18<05:47,  4.35s/it]"
     ]
    },
    {
     "name": "stdout",
     "output_type": "stream",
     "text": [
      "Fold 26: Train weeks 26-77, Test weeks 78-85 → MSE 30923147437.50, MAE 144033.96\n"
     ]
    },
    {
     "name": "stderr",
     "output_type": "stream",
     "text": [
      " 25%|██▌       | 27/106 [02:22<05:39,  4.29s/it]"
     ]
    },
    {
     "name": "stdout",
     "output_type": "stream",
     "text": [
      "Fold 27: Train weeks 27-78, Test weeks 79-86 → MSE 25523298611.84, MAE 131235.09\n"
     ]
    },
    {
     "name": "stderr",
     "output_type": "stream",
     "text": [
      " 26%|██▋       | 28/106 [02:27<05:39,  4.35s/it]"
     ]
    },
    {
     "name": "stdout",
     "output_type": "stream",
     "text": [
      "Fold 28: Train weeks 28-79, Test weeks 80-87 → MSE 34454179303.39, MAE 161977.59\n"
     ]
    },
    {
     "name": "stderr",
     "output_type": "stream",
     "text": [
      " 27%|██▋       | 29/106 [02:31<05:37,  4.39s/it]"
     ]
    },
    {
     "name": "stdout",
     "output_type": "stream",
     "text": [
      "Fold 29: Train weeks 29-80, Test weeks 81-88 → MSE 27667857528.63, MAE 131450.51\n"
     ]
    },
    {
     "name": "stderr",
     "output_type": "stream",
     "text": [
      " 28%|██▊       | 30/106 [02:36<05:43,  4.53s/it]"
     ]
    },
    {
     "name": "stdout",
     "output_type": "stream",
     "text": [
      "Fold 30: Train weeks 30-81, Test weeks 82-89 → MSE 47873276668.12, MAE 162242.65\n"
     ]
    },
    {
     "name": "stderr",
     "output_type": "stream",
     "text": [
      " 29%|██▉       | 31/106 [02:40<05:31,  4.42s/it]"
     ]
    },
    {
     "name": "stdout",
     "output_type": "stream",
     "text": [
      "Fold 31: Train weeks 31-82, Test weeks 83-90 → MSE 1363868480398.57, MAE 600295.35\n"
     ]
    },
    {
     "name": "stderr",
     "output_type": "stream",
     "text": [
      " 30%|███       | 32/106 [02:44<05:20,  4.33s/it]"
     ]
    },
    {
     "name": "stdout",
     "output_type": "stream",
     "text": [
      "Fold 32: Train weeks 32-83, Test weeks 84-91 → MSE 2004766939159.77, MAE 680189.71\n"
     ]
    },
    {
     "name": "stderr",
     "output_type": "stream",
     "text": [
      " 31%|███       | 33/106 [02:49<05:13,  4.30s/it]"
     ]
    },
    {
     "name": "stdout",
     "output_type": "stream",
     "text": [
      "Fold 33: Train weeks 33-84, Test weeks 85-92 → MSE 1392259535234.43, MAE 649632.97\n"
     ]
    },
    {
     "name": "stderr",
     "output_type": "stream",
     "text": [
      " 32%|███▏      | 34/106 [02:53<05:05,  4.24s/it]"
     ]
    },
    {
     "name": "stdout",
     "output_type": "stream",
     "text": [
      "Fold 34: Train weeks 34-85, Test weeks 86-93 → MSE 2453502702013.30, MAE 962683.99\n"
     ]
    },
    {
     "name": "stderr",
     "output_type": "stream",
     "text": [
      " 33%|███▎      | 35/106 [02:57<04:57,  4.19s/it]"
     ]
    },
    {
     "name": "stdout",
     "output_type": "stream",
     "text": [
      "Fold 35: Train weeks 35-86, Test weeks 87-94 → MSE 2495759833942.00, MAE 979247.83\n"
     ]
    },
    {
     "name": "stderr",
     "output_type": "stream",
     "text": [
      " 34%|███▍      | 36/106 [03:01<05:01,  4.31s/it]"
     ]
    },
    {
     "name": "stdout",
     "output_type": "stream",
     "text": [
      "Fold 36: Train weeks 36-87, Test weeks 88-95 → MSE 2476815273302.54, MAE 946129.69\n"
     ]
    },
    {
     "name": "stderr",
     "output_type": "stream",
     "text": [
      " 35%|███▍      | 37/106 [03:06<05:09,  4.49s/it]"
     ]
    },
    {
     "name": "stdout",
     "output_type": "stream",
     "text": [
      "Fold 37: Train weeks 37-88, Test weeks 89-96 → MSE 2605132420104.56, MAE 1040517.70\n"
     ]
    },
    {
     "name": "stderr",
     "output_type": "stream",
     "text": [
      " 36%|███▌      | 38/106 [03:10<04:58,  4.38s/it]"
     ]
    },
    {
     "name": "stdout",
     "output_type": "stream",
     "text": [
      "Fold 38: Train weeks 38-89, Test weeks 90-97 → MSE 2279892119534.58, MAE 945161.82\n"
     ]
    },
    {
     "name": "stderr",
     "output_type": "stream",
     "text": [
      " 37%|███▋      | 39/106 [03:15<04:55,  4.41s/it]"
     ]
    },
    {
     "name": "stdout",
     "output_type": "stream",
     "text": [
      "Fold 39: Train weeks 39-90, Test weeks 91-98 → MSE 5182325688154.05, MAE 1309515.27\n"
     ]
    },
    {
     "name": "stderr",
     "output_type": "stream",
     "text": [
      " 38%|███▊      | 40/106 [03:20<04:56,  4.49s/it]"
     ]
    },
    {
     "name": "stdout",
     "output_type": "stream",
     "text": [
      "Fold 40: Train weeks 40-91, Test weeks 92-99 → MSE 5165542333162.68, MAE 1388480.21\n"
     ]
    },
    {
     "name": "stderr",
     "output_type": "stream",
     "text": [
      " 39%|███▊      | 41/106 [03:23<04:36,  4.25s/it]"
     ]
    },
    {
     "name": "stdout",
     "output_type": "stream",
     "text": [
      "Fold 41: Train weeks 41-92, Test weeks 93-100 → MSE 5499261689125.48, MAE 1411544.58\n"
     ]
    },
    {
     "name": "stderr",
     "output_type": "stream",
     "text": [
      " 40%|███▉      | 42/106 [03:27<04:29,  4.22s/it]"
     ]
    },
    {
     "name": "stdout",
     "output_type": "stream",
     "text": [
      "Fold 42: Train weeks 42-93, Test weeks 94-101 → MSE 122094121902.24, MAE 313866.76\n"
     ]
    },
    {
     "name": "stderr",
     "output_type": "stream",
     "text": [
      " 41%|████      | 43/106 [03:32<04:31,  4.30s/it]"
     ]
    },
    {
     "name": "stdout",
     "output_type": "stream",
     "text": [
      "Fold 43: Train weeks 43-94, Test weeks 95-102 → MSE 132227103001.54, MAE 297428.82\n"
     ]
    },
    {
     "name": "stderr",
     "output_type": "stream",
     "text": [
      " 42%|████▏     | 44/106 [03:36<04:28,  4.33s/it]"
     ]
    },
    {
     "name": "stdout",
     "output_type": "stream",
     "text": [
      "Fold 44: Train weeks 44-95, Test weeks 96-103 → MSE 136254357747.89, MAE 325002.66\n"
     ]
    },
    {
     "name": "stderr",
     "output_type": "stream",
     "text": [
      " 42%|████▏     | 45/106 [03:40<04:22,  4.30s/it]"
     ]
    },
    {
     "name": "stdout",
     "output_type": "stream",
     "text": [
      "Fold 45: Train weeks 45-96, Test weeks 97-104 → MSE 128658891338.81, MAE 332720.92\n"
     ]
    },
    {
     "name": "stderr",
     "output_type": "stream",
     "text": [
      " 43%|████▎     | 46/106 [03:45<04:14,  4.24s/it]"
     ]
    },
    {
     "name": "stdout",
     "output_type": "stream",
     "text": [
      "Fold 46: Train weeks 46-97, Test weeks 98-105 → MSE 137621147899.74, MAE 345204.73\n"
     ]
    },
    {
     "name": "stderr",
     "output_type": "stream",
     "text": [
      " 44%|████▍     | 47/106 [03:49<04:16,  4.35s/it]"
     ]
    },
    {
     "name": "stdout",
     "output_type": "stream",
     "text": [
      "Fold 47: Train weeks 47-98, Test weeks 99-106 → MSE 83329456032.91, MAE 276661.58\n"
     ]
    },
    {
     "name": "stderr",
     "output_type": "stream",
     "text": [
      " 45%|████▌     | 48/106 [03:54<04:15,  4.40s/it]"
     ]
    },
    {
     "name": "stdout",
     "output_type": "stream",
     "text": [
      "Fold 48: Train weeks 48-99, Test weeks 100-107 → MSE 31163745412.68, MAE 161892.17\n"
     ]
    },
    {
     "name": "stderr",
     "output_type": "stream",
     "text": [
      " 46%|████▌     | 49/106 [03:58<04:03,  4.26s/it]"
     ]
    },
    {
     "name": "stdout",
     "output_type": "stream",
     "text": [
      "Fold 49: Train weeks 49-100, Test weeks 101-108 → MSE 69290376673.35, MAE 186764.89\n"
     ]
    },
    {
     "name": "stderr",
     "output_type": "stream",
     "text": [
      " 47%|████▋     | 50/106 [04:01<03:49,  4.10s/it]"
     ]
    },
    {
     "name": "stdout",
     "output_type": "stream",
     "text": [
      "Fold 50: Train weeks 50-101, Test weeks 102-109 → MSE 70070880961.53, MAE 207529.11\n"
     ]
    },
    {
     "name": "stderr",
     "output_type": "stream",
     "text": [
      " 48%|████▊     | 51/106 [04:06<03:52,  4.23s/it]"
     ]
    },
    {
     "name": "stdout",
     "output_type": "stream",
     "text": [
      "Fold 51: Train weeks 51-102, Test weeks 103-110 → MSE 68442559903.45, MAE 185160.03\n"
     ]
    },
    {
     "name": "stderr",
     "output_type": "stream",
     "text": [
      " 49%|████▉     | 52/106 [04:10<03:40,  4.08s/it]"
     ]
    },
    {
     "name": "stdout",
     "output_type": "stream",
     "text": [
      "Fold 52: Train weeks 52-103, Test weeks 104-111 → MSE 69609786254.03, MAE 217086.86\n"
     ]
    },
    {
     "name": "stderr",
     "output_type": "stream",
     "text": [
      " 50%|█████     | 53/106 [04:13<03:30,  3.97s/it]"
     ]
    },
    {
     "name": "stdout",
     "output_type": "stream",
     "text": [
      "Fold 53: Train weeks 53-104, Test weeks 105-112 → MSE 26513863096.46, MAE 137153.62\n"
     ]
    },
    {
     "name": "stderr",
     "output_type": "stream",
     "text": [
      " 51%|█████     | 54/106 [04:18<03:33,  4.10s/it]"
     ]
    },
    {
     "name": "stdout",
     "output_type": "stream",
     "text": [
      "Fold 54: Train weeks 54-105, Test weeks 106-113 → MSE 21412169111.19, MAE 120170.93\n"
     ]
    },
    {
     "name": "stderr",
     "output_type": "stream",
     "text": [
      " 52%|█████▏    | 55/106 [04:22<03:29,  4.11s/it]"
     ]
    },
    {
     "name": "stdout",
     "output_type": "stream",
     "text": [
      "Fold 55: Train weeks 55-106, Test weeks 107-114 → MSE 13358146947.77, MAE 105022.33\n"
     ]
    },
    {
     "name": "stderr",
     "output_type": "stream",
     "text": [
      " 53%|█████▎    | 56/106 [04:26<03:22,  4.06s/it]"
     ]
    },
    {
     "name": "stdout",
     "output_type": "stream",
     "text": [
      "Fold 56: Train weeks 56-107, Test weeks 108-115 → MSE 32486282483.75, MAE 161652.44\n"
     ]
    },
    {
     "name": "stderr",
     "output_type": "stream",
     "text": [
      " 54%|█████▍    | 57/106 [04:30<03:18,  4.04s/it]"
     ]
    },
    {
     "name": "stdout",
     "output_type": "stream",
     "text": [
      "Fold 57: Train weeks 57-108, Test weeks 109-116 → MSE 25193071099.77, MAE 132758.12\n"
     ]
    },
    {
     "name": "stderr",
     "output_type": "stream",
     "text": [
      " 55%|█████▍    | 58/106 [04:34<03:20,  4.18s/it]"
     ]
    },
    {
     "name": "stdout",
     "output_type": "stream",
     "text": [
      "Fold 58: Train weeks 58-109, Test weeks 110-117 → MSE 26100181743.79, MAE 134728.59\n"
     ]
    },
    {
     "name": "stderr",
     "output_type": "stream",
     "text": [
      " 56%|█████▌    | 59/106 [04:39<03:20,  4.27s/it]"
     ]
    },
    {
     "name": "stdout",
     "output_type": "stream",
     "text": [
      "Fold 59: Train weeks 59-110, Test weeks 111-118 → MSE 7605630348.41, MAE 60926.14\n"
     ]
    },
    {
     "name": "stderr",
     "output_type": "stream",
     "text": [
      " 57%|█████▋    | 60/106 [04:43<03:21,  4.38s/it]"
     ]
    },
    {
     "name": "stdout",
     "output_type": "stream",
     "text": [
      "Fold 60: Train weeks 60-111, Test weeks 112-119 → MSE 1808990499.43, MAE 38013.06\n"
     ]
    },
    {
     "name": "stderr",
     "output_type": "stream",
     "text": [
      " 58%|█████▊    | 61/106 [04:47<03:09,  4.21s/it]"
     ]
    },
    {
     "name": "stdout",
     "output_type": "stream",
     "text": [
      "Fold 61: Train weeks 61-112, Test weeks 113-120 → MSE 9568968517.12, MAE 64276.69\n"
     ]
    },
    {
     "name": "stderr",
     "output_type": "stream",
     "text": [
      " 58%|█████▊    | 62/106 [04:51<03:05,  4.21s/it]"
     ]
    },
    {
     "name": "stdout",
     "output_type": "stream",
     "text": [
      "Fold 62: Train weeks 62-113, Test weeks 114-121 → MSE 9467347164.43, MAE 65539.32\n"
     ]
    },
    {
     "name": "stderr",
     "output_type": "stream",
     "text": [
      " 59%|█████▉    | 63/106 [04:56<03:07,  4.36s/it]"
     ]
    },
    {
     "name": "stdout",
     "output_type": "stream",
     "text": [
      "Fold 63: Train weeks 63-114, Test weeks 115-122 → MSE 33427678326.72, MAE 128906.28\n"
     ]
    },
    {
     "name": "stderr",
     "output_type": "stream",
     "text": [
      " 60%|██████    | 64/106 [05:01<03:10,  4.53s/it]"
     ]
    },
    {
     "name": "stdout",
     "output_type": "stream",
     "text": [
      "Fold 64: Train weeks 64-115, Test weeks 116-123 → MSE 37507380550.29, MAE 147274.25\n"
     ]
    },
    {
     "name": "stderr",
     "output_type": "stream",
     "text": [
      " 61%|██████▏   | 65/106 [05:06<03:12,  4.70s/it]"
     ]
    },
    {
     "name": "stdout",
     "output_type": "stream",
     "text": [
      "Fold 65: Train weeks 65-116, Test weeks 117-124 → MSE 55120801736.37, MAE 192689.88\n"
     ]
    },
    {
     "name": "stderr",
     "output_type": "stream",
     "text": [
      " 62%|██████▏   | 66/106 [05:11<03:07,  4.70s/it]"
     ]
    },
    {
     "name": "stdout",
     "output_type": "stream",
     "text": [
      "Fold 66: Train weeks 66-117, Test weeks 118-125 → MSE 38592874692.10, MAE 169268.77\n"
     ]
    },
    {
     "name": "stderr",
     "output_type": "stream",
     "text": [
      " 63%|██████▎   | 67/106 [05:15<02:56,  4.52s/it]"
     ]
    },
    {
     "name": "stdout",
     "output_type": "stream",
     "text": [
      "Fold 67: Train weeks 67-118, Test weeks 119-126 → MSE 43258610267.92, MAE 192057.47\n"
     ]
    },
    {
     "name": "stderr",
     "output_type": "stream",
     "text": [
      " 64%|██████▍   | 68/106 [05:19<02:45,  4.35s/it]"
     ]
    },
    {
     "name": "stdout",
     "output_type": "stream",
     "text": [
      "Fold 68: Train weeks 68-119, Test weeks 120-127 → MSE 48276674379.55, MAE 196547.76\n"
     ]
    },
    {
     "name": "stderr",
     "output_type": "stream",
     "text": [
      " 65%|██████▌   | 69/106 [05:23<02:35,  4.21s/it]"
     ]
    },
    {
     "name": "stdout",
     "output_type": "stream",
     "text": [
      "Fold 69: Train weeks 69-120, Test weeks 121-128 → MSE 1672078693033.65, MAE 622531.43\n"
     ]
    },
    {
     "name": "stderr",
     "output_type": "stream",
     "text": [
      " 66%|██████▌   | 70/106 [05:27<02:31,  4.20s/it]"
     ]
    },
    {
     "name": "stdout",
     "output_type": "stream",
     "text": [
      "Fold 70: Train weeks 70-121, Test weeks 122-129 → MSE 2139388195071.24, MAE 679298.62\n"
     ]
    },
    {
     "name": "stderr",
     "output_type": "stream",
     "text": [
      " 67%|██████▋   | 71/106 [05:31<02:27,  4.22s/it]"
     ]
    },
    {
     "name": "stdout",
     "output_type": "stream",
     "text": [
      "Fold 71: Train weeks 71-122, Test weeks 123-130 → MSE 490166405624.65, MAE 407772.99\n"
     ]
    },
    {
     "name": "stderr",
     "output_type": "stream",
     "text": [
      " 68%|██████▊   | 72/106 [05:35<02:23,  4.21s/it]"
     ]
    },
    {
     "name": "stdout",
     "output_type": "stream",
     "text": [
      "Fold 72: Train weeks 72-123, Test weeks 124-131 → MSE 518599843384.17, MAE 433879.41\n"
     ]
    },
    {
     "name": "stderr",
     "output_type": "stream",
     "text": [
      " 69%|██████▉   | 73/106 [05:40<02:17,  4.16s/it]"
     ]
    },
    {
     "name": "stdout",
     "output_type": "stream",
     "text": [
      "Fold 73: Train weeks 73-124, Test weeks 125-132 → MSE 720882622345.42, MAE 542226.46\n"
     ]
    },
    {
     "name": "stderr",
     "output_type": "stream",
     "text": [
      " 70%|██████▉   | 74/106 [05:44<02:16,  4.27s/it]"
     ]
    },
    {
     "name": "stdout",
     "output_type": "stream",
     "text": [
      "Fold 74: Train weeks 74-125, Test weeks 126-133 → MSE 1621850282681.54, MAE 736434.76\n"
     ]
    },
    {
     "name": "stderr",
     "output_type": "stream",
     "text": [
      " 71%|███████   | 75/106 [05:48<02:13,  4.31s/it]"
     ]
    },
    {
     "name": "stdout",
     "output_type": "stream",
     "text": [
      "Fold 75: Train weeks 75-126, Test weeks 127-134 → MSE 1644950228276.72, MAE 731397.00\n"
     ]
    },
    {
     "name": "stderr",
     "output_type": "stream",
     "text": [
      " 72%|███████▏  | 76/106 [05:53<02:12,  4.40s/it]"
     ]
    },
    {
     "name": "stdout",
     "output_type": "stream",
     "text": [
      "Fold 76: Train weeks 76-127, Test weeks 128-135 → MSE 3678026711836.43, MAE 1103117.06\n"
     ]
    },
    {
     "name": "stderr",
     "output_type": "stream",
     "text": [
      " 73%|███████▎  | 77/106 [05:58<02:09,  4.45s/it]"
     ]
    },
    {
     "name": "stdout",
     "output_type": "stream",
     "text": [
      "Fold 77: Train weeks 77-128, Test weeks 129-136 → MSE 146114866367.88, MAE 271964.84\n"
     ]
    },
    {
     "name": "stderr",
     "output_type": "stream",
     "text": [
      " 74%|███████▎  | 78/106 [06:03<02:08,  4.58s/it]"
     ]
    },
    {
     "name": "stdout",
     "output_type": "stream",
     "text": [
      "Fold 78: Train weeks 78-129, Test weeks 130-137 → MSE 125222470968.51, MAE 192475.62\n"
     ]
    },
    {
     "name": "stderr",
     "output_type": "stream",
     "text": [
      " 75%|███████▍  | 79/106 [06:07<02:01,  4.52s/it]"
     ]
    },
    {
     "name": "stdout",
     "output_type": "stream",
     "text": [
      "Fold 79: Train weeks 79-130, Test weeks 131-138 → MSE 144002538500.20, MAE 224113.67\n"
     ]
    },
    {
     "name": "stderr",
     "output_type": "stream",
     "text": [
      " 75%|███████▌  | 80/106 [06:11<01:54,  4.42s/it]"
     ]
    },
    {
     "name": "stdout",
     "output_type": "stream",
     "text": [
      "Fold 80: Train weeks 80-131, Test weeks 132-139 → MSE 158846000265.42, MAE 223761.29\n"
     ]
    },
    {
     "name": "stderr",
     "output_type": "stream",
     "text": [
      " 76%|███████▋  | 81/106 [06:15<01:45,  4.23s/it]"
     ]
    },
    {
     "name": "stdout",
     "output_type": "stream",
     "text": [
      "Fold 81: Train weeks 81-132, Test weeks 133-140 → MSE 97221333196.82, MAE 235182.18\n"
     ]
    },
    {
     "name": "stderr",
     "output_type": "stream",
     "text": [
      " 77%|███████▋  | 82/106 [06:19<01:41,  4.24s/it]"
     ]
    },
    {
     "name": "stdout",
     "output_type": "stream",
     "text": [
      "Fold 82: Train weeks 82-133, Test weeks 134-141 → MSE 100803295837.30, MAE 240929.33\n"
     ]
    },
    {
     "name": "stderr",
     "output_type": "stream",
     "text": [
      " 78%|███████▊  | 83/106 [06:23<01:38,  4.28s/it]"
     ]
    },
    {
     "name": "stdout",
     "output_type": "stream",
     "text": [
      "Fold 83: Train weeks 83-134, Test weeks 135-142 → MSE 272570747913.65, MAE 367107.01\n"
     ]
    },
    {
     "name": "stderr",
     "output_type": "stream",
     "text": [
      " 79%|███████▉  | 84/106 [06:28<01:35,  4.35s/it]"
     ]
    },
    {
     "name": "stdout",
     "output_type": "stream",
     "text": [
      "Fold 84: Train weeks 84-135, Test weeks 136-143 → MSE 1731306210291.35, MAE 773682.55\n"
     ]
    },
    {
     "name": "stderr",
     "output_type": "stream",
     "text": [
      " 80%|████████  | 85/106 [06:32<01:30,  4.30s/it]"
     ]
    },
    {
     "name": "stdout",
     "output_type": "stream",
     "text": [
      "Fold 85: Train weeks 85-136, Test weeks 137-144 → MSE 1748791951253.52, MAE 777347.08\n"
     ]
    },
    {
     "name": "stderr",
     "output_type": "stream",
     "text": [
      " 81%|████████  | 86/106 [06:36<01:24,  4.24s/it]"
     ]
    },
    {
     "name": "stdout",
     "output_type": "stream",
     "text": [
      "Fold 86: Train weeks 86-137, Test weeks 138-145 → MSE 1773427351205.28, MAE 834881.36\n"
     ]
    },
    {
     "name": "stderr",
     "output_type": "stream",
     "text": [
      " 82%|████████▏ | 87/106 [06:41<01:20,  4.25s/it]"
     ]
    },
    {
     "name": "stdout",
     "output_type": "stream",
     "text": [
      "Fold 87: Train weeks 87-138, Test weeks 139-146 → MSE 1396915535083.64, MAE 678543.96\n"
     ]
    },
    {
     "name": "stderr",
     "output_type": "stream",
     "text": [
      " 83%|████████▎ | 88/106 [06:45<01:15,  4.22s/it]"
     ]
    },
    {
     "name": "stdout",
     "output_type": "stream",
     "text": [
      "Fold 88: Train weeks 88-139, Test weeks 140-147 → MSE 1384659852537.44, MAE 662893.96\n"
     ]
    },
    {
     "name": "stderr",
     "output_type": "stream",
     "text": [
      " 84%|████████▍ | 89/106 [06:49<01:12,  4.27s/it]"
     ]
    },
    {
     "name": "stdout",
     "output_type": "stream",
     "text": [
      "Fold 89: Train weeks 89-140, Test weeks 141-148 → MSE 1135494404693.05, MAE 629218.35\n"
     ]
    },
    {
     "name": "stderr",
     "output_type": "stream",
     "text": [
      " 85%|████████▍ | 90/106 [06:54<01:08,  4.31s/it]"
     ]
    },
    {
     "name": "stdout",
     "output_type": "stream",
     "text": [
      "Fold 90: Train weeks 90-141, Test weeks 142-149 → MSE 3385907036578.43, MAE 1203028.63\n"
     ]
    },
    {
     "name": "stderr",
     "output_type": "stream",
     "text": [
      " 86%|████████▌ | 91/106 [06:58<01:04,  4.33s/it]"
     ]
    },
    {
     "name": "stdout",
     "output_type": "stream",
     "text": [
      "Fold 91: Train weeks 91-142, Test weeks 143-150 → MSE 1116239648964.77, MAE 551037.85\n"
     ]
    },
    {
     "name": "stderr",
     "output_type": "stream",
     "text": [
      " 87%|████████▋ | 92/106 [07:02<01:01,  4.41s/it]"
     ]
    },
    {
     "name": "stdout",
     "output_type": "stream",
     "text": [
      "Fold 92: Train weeks 92-143, Test weeks 144-151 → MSE 61769612711.73, MAE 230581.20\n"
     ]
    },
    {
     "name": "stderr",
     "output_type": "stream",
     "text": [
      " 88%|████████▊ | 93/106 [07:07<00:56,  4.36s/it]"
     ]
    },
    {
     "name": "stdout",
     "output_type": "stream",
     "text": [
      "Fold 93: Train weeks 93-144, Test weeks 145-152 → MSE 61148209756.33, MAE 223023.82\n"
     ]
    },
    {
     "name": "stderr",
     "output_type": "stream",
     "text": [
      " 89%|████████▊ | 94/106 [07:11<00:53,  4.46s/it]"
     ]
    },
    {
     "name": "stdout",
     "output_type": "stream",
     "text": [
      "Fold 94: Train weeks 94-145, Test weeks 146-153 → MSE 102715983366.71, MAE 285528.67\n"
     ]
    },
    {
     "name": "stderr",
     "output_type": "stream",
     "text": [
      " 90%|████████▉ | 95/106 [07:16<00:50,  4.56s/it]"
     ]
    },
    {
     "name": "stdout",
     "output_type": "stream",
     "text": [
      "Fold 95: Train weeks 95-146, Test weeks 147-154 → MSE 149358568551.08, MAE 334290.15\n"
     ]
    },
    {
     "name": "stderr",
     "output_type": "stream",
     "text": [
      " 91%|█████████ | 96/106 [07:21<00:44,  4.49s/it]"
     ]
    },
    {
     "name": "stdout",
     "output_type": "stream",
     "text": [
      "Fold 96: Train weeks 96-147, Test weeks 148-155 → MSE 73874810764.79, MAE 247287.98\n"
     ]
    },
    {
     "name": "stderr",
     "output_type": "stream",
     "text": [
      " 92%|█████████▏| 97/106 [07:25<00:40,  4.47s/it]"
     ]
    },
    {
     "name": "stdout",
     "output_type": "stream",
     "text": [
      "Fold 97: Train weeks 97-148, Test weeks 149-156 → MSE 151175988674.80, MAE 352280.30\n"
     ]
    },
    {
     "name": "stderr",
     "output_type": "stream",
     "text": [
      " 92%|█████████▏| 98/106 [07:29<00:34,  4.36s/it]"
     ]
    },
    {
     "name": "stdout",
     "output_type": "stream",
     "text": [
      "Fold 98: Train weeks 98-149, Test weeks 150-157 → MSE 101462330846.63, MAE 286711.66\n"
     ]
    },
    {
     "name": "stderr",
     "output_type": "stream",
     "text": [
      " 93%|█████████▎| 99/106 [07:34<00:30,  4.42s/it]"
     ]
    },
    {
     "name": "stdout",
     "output_type": "stream",
     "text": [
      "Fold 99: Train weeks 99-150, Test weeks 151-158 → MSE 173570987854.61, MAE 356181.22\n"
     ]
    },
    {
     "name": "stderr",
     "output_type": "stream",
     "text": [
      " 94%|█████████▍| 100/106 [07:37<00:25,  4.24s/it]"
     ]
    },
    {
     "name": "stdout",
     "output_type": "stream",
     "text": [
      "Fold 100: Train weeks 100-151, Test weeks 152-159 → MSE 123046758200.78, MAE 287269.83\n"
     ]
    },
    {
     "name": "stderr",
     "output_type": "stream",
     "text": [
      " 95%|█████████▌| 101/106 [07:41<00:20,  4.16s/it]"
     ]
    },
    {
     "name": "stdout",
     "output_type": "stream",
     "text": [
      "Fold 101: Train weeks 101-152, Test weeks 153-160 → MSE 131001134847.83, MAE 321694.59\n"
     ]
    },
    {
     "name": "stderr",
     "output_type": "stream",
     "text": [
      " 96%|█████████▌| 102/106 [07:46<00:16,  4.20s/it]"
     ]
    },
    {
     "name": "stdout",
     "output_type": "stream",
     "text": [
      "Fold 102: Train weeks 102-153, Test weeks 154-161 → MSE 33596660963.15, MAE 137883.90\n"
     ]
    },
    {
     "name": "stderr",
     "output_type": "stream",
     "text": [
      " 97%|█████████▋| 103/106 [07:50<00:12,  4.08s/it]"
     ]
    },
    {
     "name": "stdout",
     "output_type": "stream",
     "text": [
      "Fold 103: Train weeks 103-154, Test weeks 155-162 → MSE 30832299802.07, MAE 141713.83\n"
     ]
    },
    {
     "name": "stderr",
     "output_type": "stream",
     "text": [
      " 98%|█████████▊| 104/106 [07:54<00:08,  4.07s/it]"
     ]
    },
    {
     "name": "stdout",
     "output_type": "stream",
     "text": [
      "Fold 104: Train weeks 104-155, Test weeks 156-163 → MSE 64230547386.66, MAE 159229.63\n"
     ]
    },
    {
     "name": "stderr",
     "output_type": "stream",
     "text": [
      " 99%|█████████▉| 105/106 [07:57<00:03,  3.95s/it]"
     ]
    },
    {
     "name": "stdout",
     "output_type": "stream",
     "text": [
      "Fold 105: Train weeks 105-156, Test weeks 157-164 → MSE 63848730335.83, MAE 169558.63\n"
     ]
    },
    {
     "name": "stderr",
     "output_type": "stream",
     "text": [
      "100%|██████████| 106/106 [08:01<00:00,  4.55s/it]"
     ]
    },
    {
     "name": "stdout",
     "output_type": "stream",
     "text": [
      "Fold 106: Train weeks 106-157, Test weeks 158-165 → MSE 78854153406.46, MAE 195213.85\n",
      "\n",
      "CV mean MSE: 606155078266.238 MAE: 351538.99282429245\n"
     ]
    },
    {
     "name": "stderr",
     "output_type": "stream",
     "text": [
      "\n"
     ]
    }
   ],
   "source": [
    "# --- 2. Carve off final hold-out (last 8 weeks) ----------------------------\n",
    "H = 8    # hold-out horizon\n",
    "train_cut = len(df) - H\n",
    "X_hist, y_hist = X[:train_cut], y[:train_cut]\n",
    "dates_hist = dates[:train_cut]\n",
    "\n",
    "X_final, y_final = X[train_cut:], y[train_cut:]\n",
    "dates_final = dates[train_cut:]\n",
    "\n",
    "# --- 3. Rolling-origin CV on history ----------------------------------------\n",
    "W = 52   # training window\n",
    "h = 8    # test window\n",
    "scores = []\n",
    "best_params_list = []\n",
    "feature_importances_list = []\n",
    "\n",
    "# we can only start a fold where (start + W + h) ≤ len(history)\n",
    "n_folds = (len(X_hist) - W - h) + 1\n",
    "\n",
    "param_grid = {\n",
    "    'min_child_weight': [0.3, 0.4, 0.5],\n",
    "    'n_estimators':       [100, 200, 300],\n",
    "    'learning_rate':      [0.01, 0.05, 0.1],    # if using XGBoost; RF ignores this\n",
    "    'max_depth':          [5, 7, 9],\n",
    "}\n",
    "\n",
    "for i in tqdm(range(n_folds)):\n",
    "    train_start = i\n",
    "    train_end   = i + W          # exclusive\n",
    "    test_end    = train_end + h  # exclusive\n",
    "\n",
    "    X_tr = X_hist[train_start:train_end]\n",
    "    y_tr = y_hist[train_start:train_end]\n",
    "    X_va = X_hist[train_end:test_end]\n",
    "    y_va = y_hist[train_end:test_end]\n",
    "\n",
    "    # train\n",
    "    current_model = xg.XGBRegressor(random_state=42, seed=123, n_jobs=-1)\n",
    "    # Grid search\n",
    "    grid_search = GridSearchCV(current_model, param_grid, cv=3, scoring='neg_mean_absolute_error', n_jobs=-1)\n",
    "    grid_search.fit(X_tr, y_tr)\n",
    "    # Get best model\n",
    "    best_model = grid_search.best_estimator_\n",
    "    # Get best parameters\n",
    "    best_params = grid_search.best_params_\n",
    "    # Fit best model\n",
    "    best_model.fit(X_tr, y_tr)\n",
    "    # Get feature importances\n",
    "    feature_importances = best_model.feature_importances_\n",
    "    importances = pd.Series(\n",
    "        best_model.feature_importances_,\n",
    "        index=columns_used_to_train\n",
    "    )\n",
    "    feature_importances_list.append(importances)\n",
    "    # Get best parameters\n",
    "    best_params_list.append(best_params)\n",
    "    \n",
    "\n",
    "    # predict & score\n",
    "    y_pred = best_model.predict(X_va)\n",
    "    mae = mean_absolute_error(y_va, y_pred)\n",
    "    mse = mean_squared_error(y_va, y_pred)\n",
    "    rmse = np.sqrt(mse)\n",
    "    mape = mean_absolute_percentage_error(y_va, y_pred)\n",
    "    r2 = r2_score(y_va, y_pred)\n",
    "\n",
    "    scores.append({'fold': i+1, 'mse': mse, 'mae': mae, 'rmse': rmse, 'mape': mape, 'r2': r2})\n",
    "\n",
    "    print(f\"Fold {i+1:02d}: Train weeks {train_start+1}-{train_end}, \"\n",
    "          f\"Test weeks {train_end+1}-{test_end} → MSE {mse:.2f}, MAE {mae:.2f}\")\n",
    "\n",
    "cv_df = pd.DataFrame(scores)\n",
    "print(\"\\nCV mean MSE:\", cv_df['mse'].mean(), \"MAE:\", cv_df['mae'].mean())\n",
    "feat_importance_df = pd.DataFrame(feature_importances_list)\n",
    "best_params_df = pd.DataFrame(best_params_list)"
   ]
  },
  {
   "cell_type": "code",
   "execution_count": 17,
   "id": "dfaac850",
   "metadata": {},
   "outputs": [
    {
     "data": {
      "text/plain": [
       "np.float64(0.0788739811330915)"
      ]
     },
     "execution_count": 17,
     "metadata": {},
     "output_type": "execute_result"
    }
   ],
   "source": [
    "cv_df['mape'].mean()"
   ]
  },
  {
   "cell_type": "code",
   "execution_count": 18,
   "id": "f4cc2663",
   "metadata": {},
   "outputs": [],
   "source": [
    "# saving the files\n",
    "cv_df.to_csv('./cogs/files/cross_validation_results.csv')\n",
    "feat_importance_df.to_csv('./cogs/files/feature_importance_results.csv')\n",
    "best_params_df.to_csv('./cogs/files/best_params_results.csv')"
   ]
  },
  {
   "cell_type": "code",
   "execution_count": 19,
   "id": "85e9d1ac",
   "metadata": {},
   "outputs": [
    {
     "data": {
      "image/png": "[encoded data removed]",
      "text/plain": [
       "<Figure size 640x480 with 1 Axes>"
      ]
     },
     "metadata": {},
     "output_type": "display_data"
    }
   ],
   "source": [
    "# --- 4. Plot CV metrics ----------------------------------------------------\n",
    "plt.figure()\n",
    "plt.plot(cv_df['fold'], cv_df['mape'], marker='o', label='MAPE')\n",
    "# plt.plot(cv_df['fold'], cv_df['mae'], marker='s', label='MAE')\n",
    "plt.xlabel(\"Fold\")\n",
    "plt.ylabel(\"Error\")\n",
    "plt.title(f\"Rolling-origin CV (W={W}, h={H})\")\n",
    "plt.legend()\n",
    "plt.tight_layout()\n",
    "plt.show()"
   ]
  },
  {
   "cell_type": "code",
   "execution_count": 20,
   "id": "4c4f6111",
   "metadata": {},
   "outputs": [
    {
     "data": {
      "text/plain": [
       "<Axes: >"
      ]
     },
     "execution_count": 20,
     "metadata": {},
     "output_type": "execute_result"
    },
    {
     "data": {
      "image/png": "[encoded data removed]",
      "text/plain": [
       "<Figure size 1200x800 with 2 Axes>"
      ]
     },
     "metadata": {},
     "output_type": "display_data"
    }
   ],
   "source": [
    "import seaborn as sns\n",
    "import matplotlib.pyplot as plt\n",
    "plt.figure(figsize=(12, 8))\n",
    "sns.heatmap(feat_importance_df)"
   ]
  },
  {
   "cell_type": "markdown",
   "id": "c5b6a13a",
   "metadata": {},
   "source": [
    "## Base on Feature Importance Filtering Features to Use"
   ]
  },
  {
   "cell_type": "code",
   "execution_count": 21,
   "id": "02b8f32e",
   "metadata": {},
   "outputs": [
    {
     "data": {
      "text/plain": [
       "number_orders                                        44.424305\n",
       "email_visits                                         17.218782\n",
       "cpc                                                  12.000779\n",
       "number_visits                                         7.512202\n",
       "number_days_till_next_event                           6.801900\n",
       "is_black_week_event                                   4.348468\n",
       "internal_Week_of_FW_Season                            0.943033\n",
       "internalWeeks_until_SeasonalSaleStart                 0.702073\n",
       "internal_Week_of_SS_Season                            0.697647\n",
       "is_percentage_on_top                                  0.696653\n",
       "avg_temp                                              0.663319\n",
       "cr_tracked_%                                          0.627506\n",
       "stock_discount_rate_total_%                           0.504599\n",
       "sku_with_discount_%                                   0.432560\n",
       "aov_eur                                               0.371431\n",
       "available_stock_value_after_discount_complete_eur     0.362354\n",
       "number_days_after_last_event                          0.358844\n",
       "target_cpr                                            0.339057\n",
       "email_recipients                                      0.317656\n",
       "is_email_campaign_type_deal                           0.232637\n",
       "is_email_campaign_type_liveshop                       0.159085\n",
       "is_temp_drop_flag                                     0.112748\n",
       "is_season_sale_event                                  0.105981\n",
       "is_email_campaign_type_newsletter                     0.050970\n",
       "is_Peak_Driving_Public_Holiday_week                   0.013420\n",
       "is_Sun_to_Mon_Shift_week                              0.001713\n",
       "is_percentage_on_top_applicable                       0.000269\n",
       "dtype: float32"
      ]
     },
     "execution_count": 21,
     "metadata": {},
     "output_type": "execute_result"
    }
   ],
   "source": [
    "feat_imp_mean_series = feat_importance_df.mean() * 100\n",
    "feat_imp_mean_series.sort_values(ascending=False)"
   ]
  },
  {
   "cell_type": "code",
   "execution_count": 22,
   "id": "15821ce3",
   "metadata": {},
   "outputs": [],
   "source": [
    "SELECTED_FEATURES_TO_KEEP = list(feat_imp_mean_series[feat_imp_mean_series > 0.3].index)"
   ]
  },
  {
   "cell_type": "code",
   "execution_count": 23,
   "id": "0f02859a",
   "metadata": {},
   "outputs": [
    {
     "data": {
      "text/html": [
       "<div>\n",
       "<style scoped>\n",
       "    .dataframe tbody tr th:only-of-type {\n",
       "        vertical-align: middle;\n",
       "    }\n",
       "\n",
       "    .dataframe tbody tr th {\n",
       "        vertical-align: top;\n",
       "    }\n",
       "\n",
       "    .dataframe thead th {\n",
       "        text-align: right;\n",
       "    }\n",
       "</style>\n",
       "<table border=\"1\" class=\"dataframe\">\n",
       "  <thead>\n",
       "    <tr style=\"text-align: right;\">\n",
       "      <th></th>\n",
       "      <th>learning_rate</th>\n",
       "      <th>max_depth</th>\n",
       "      <th>min_child_weight</th>\n",
       "      <th>n_estimators</th>\n",
       "    </tr>\n",
       "  </thead>\n",
       "  <tbody>\n",
       "    <tr>\n",
       "      <th>0</th>\n",
       "      <td>0.10</td>\n",
       "      <td>7</td>\n",
       "      <td>0.3</td>\n",
       "      <td>300</td>\n",
       "    </tr>\n",
       "    <tr>\n",
       "      <th>1</th>\n",
       "      <td>0.10</td>\n",
       "      <td>5</td>\n",
       "      <td>0.3</td>\n",
       "      <td>300</td>\n",
       "    </tr>\n",
       "    <tr>\n",
       "      <th>2</th>\n",
       "      <td>0.05</td>\n",
       "      <td>5</td>\n",
       "      <td>0.3</td>\n",
       "      <td>300</td>\n",
       "    </tr>\n",
       "    <tr>\n",
       "      <th>3</th>\n",
       "      <td>0.05</td>\n",
       "      <td>5</td>\n",
       "      <td>0.3</td>\n",
       "      <td>300</td>\n",
       "    </tr>\n",
       "    <tr>\n",
       "      <th>4</th>\n",
       "      <td>0.05</td>\n",
       "      <td>5</td>\n",
       "      <td>0.3</td>\n",
       "      <td>300</td>\n",
       "    </tr>\n",
       "    <tr>\n",
       "      <th>...</th>\n",
       "      <td>...</td>\n",
       "      <td>...</td>\n",
       "      <td>...</td>\n",
       "      <td>...</td>\n",
       "    </tr>\n",
       "    <tr>\n",
       "      <th>101</th>\n",
       "      <td>0.10</td>\n",
       "      <td>5</td>\n",
       "      <td>0.3</td>\n",
       "      <td>300</td>\n",
       "    </tr>\n",
       "    <tr>\n",
       "      <th>102</th>\n",
       "      <td>0.10</td>\n",
       "      <td>5</td>\n",
       "      <td>0.3</td>\n",
       "      <td>100</td>\n",
       "    </tr>\n",
       "    <tr>\n",
       "      <th>103</th>\n",
       "      <td>0.05</td>\n",
       "      <td>5</td>\n",
       "      <td>0.3</td>\n",
       "      <td>200</td>\n",
       "    </tr>\n",
       "    <tr>\n",
       "      <th>104</th>\n",
       "      <td>0.10</td>\n",
       "      <td>5</td>\n",
       "      <td>0.3</td>\n",
       "      <td>100</td>\n",
       "    </tr>\n",
       "    <tr>\n",
       "      <th>105</th>\n",
       "      <td>0.01</td>\n",
       "      <td>5</td>\n",
       "      <td>0.3</td>\n",
       "      <td>300</td>\n",
       "    </tr>\n",
       "  </tbody>\n",
       "</table>\n",
       "<p>106 rows × 4 columns</p>\n",
       "</div>"
      ],
      "text/plain": [
       "     learning_rate  max_depth  min_child_weight  n_estimators\n",
       "0             0.10          7               0.3           300\n",
       "1             0.10          5               0.3           300\n",
       "2             0.05          5               0.3           300\n",
       "3             0.05          5               0.3           300\n",
       "4             0.05          5               0.3           300\n",
       "..             ...        ...               ...           ...\n",
       "101           0.10          5               0.3           300\n",
       "102           0.10          5               0.3           100\n",
       "103           0.05          5               0.3           200\n",
       "104           0.10          5               0.3           100\n",
       "105           0.01          5               0.3           300\n",
       "\n",
       "[106 rows x 4 columns]"
      ]
     },
     "execution_count": 23,
     "metadata": {},
     "output_type": "execute_result"
    }
   ],
   "source": [
    "best_params_df"
   ]
  },
  {
   "cell_type": "code",
   "execution_count": 24,
   "id": "c37e3ed6",
   "metadata": {},
   "outputs": [
    {
     "data": {
      "text/plain": [
       "learning_rate\n",
       "0.10    45.283019\n",
       "0.05    28.301887\n",
       "0.01    26.415094\n",
       "Name: count, dtype: float64"
      ]
     },
     "execution_count": 24,
     "metadata": {},
     "output_type": "execute_result"
    }
   ],
   "source": [
    "best_params_df['learning_rate'].value_counts() / best_params_df.shape[0] * 100"
   ]
  },
  {
   "cell_type": "code",
   "execution_count": 25,
   "id": "a4da5d8f",
   "metadata": {},
   "outputs": [
    {
     "data": {
      "text/plain": [
       "max_depth\n",
       "5    60.377358\n",
       "9    23.584906\n",
       "7    16.037736\n",
       "Name: count, dtype: float64"
      ]
     },
     "execution_count": 25,
     "metadata": {},
     "output_type": "execute_result"
    }
   ],
   "source": [
    "best_params_df['max_depth'].value_counts()/best_params_df.shape[0] * 100"
   ]
  },
  {
   "cell_type": "code",
   "execution_count": 26,
   "id": "73e14691",
   "metadata": {},
   "outputs": [
    {
     "data": {
      "text/plain": [
       "min_child_weight\n",
       "0.3    100.0\n",
       "Name: count, dtype: float64"
      ]
     },
     "execution_count": 26,
     "metadata": {},
     "output_type": "execute_result"
    }
   ],
   "source": [
    "best_params_df['min_child_weight'].value_counts()/best_params_df.shape[0] * 100"
   ]
  },
  {
   "cell_type": "code",
   "execution_count": 27,
   "id": "4b81d079",
   "metadata": {},
   "outputs": [
    {
     "data": {
      "text/plain": [
       "n_estimators\n",
       "300    66.037736\n",
       "200    18.867925\n",
       "100    15.094340\n",
       "Name: count, dtype: float64"
      ]
     },
     "execution_count": 27,
     "metadata": {},
     "output_type": "execute_result"
    }
   ],
   "source": [
    "best_params_df['n_estimators'].value_counts()/best_params_df.shape[0] * 100"
   ]
  },
  {
   "cell_type": "code",
   "execution_count": 28,
   "id": "65f27a34",
   "metadata": {},
   "outputs": [
    {
     "data": {
      "text/plain": [
       "learning_rate         0.062075\n",
       "max_depth             6.264151\n",
       "min_child_weight      0.300000\n",
       "n_estimators        250.943396\n",
       "dtype: float64"
      ]
     },
     "execution_count": 28,
     "metadata": {},
     "output_type": "execute_result"
    }
   ],
   "source": [
    "best_params_df.mean()"
   ]
  },
  {
   "cell_type": "markdown",
   "id": "f879d0a4",
   "metadata": {},
   "source": [
    "# Final Training with\n",
    "    - Limited features\n",
    "    - Tune hyperparameters"
   ]
  },
  {
   "cell_type": "code",
   "execution_count": 29,
   "id": "20ecae04",
   "metadata": {},
   "outputs": [],
   "source": [
    "# --- 1. Load & prep --------------------------------------------------------\n",
    "df = pd.read_csv(\"COGS_Data_for_taining_26072025.csv\", parse_dates=['Unnamed: 0'])\n",
    "df = df.rename(columns={'Unnamed: 0': 'date'})\n",
    "df = df.sort_values('date').set_index('date')\n",
    "\n",
    "X = df[SELECTED_FEATURES_TO_KEEP].values\n",
    "y = df[target].values\n",
    "dates = df.index"
   ]
  },
  {
   "cell_type": "code",
   "execution_count": 30,
   "id": "c1a6366f",
   "metadata": {},
   "outputs": [
    {
     "name": "stdout",
     "output_type": "stream",
     "text": [
      "Fold 01: Train weeks 1-52, Test weeks 53-60 → MAPE 0.05, MAE 164213.79\n",
      "Fold 02: Train weeks 2-53, Test weeks 54-61 → MAPE 0.04, MAE 127743.93\n",
      "Fold 03: Train weeks 3-54, Test weeks 55-62 → MAPE 0.03, MAE 71271.57\n",
      "Fold 04: Train weeks 4-55, Test weeks 56-63 → MAPE 0.02, MAE 61067.09\n",
      "Fold 05: Train weeks 5-56, Test weeks 57-64 → MAPE 0.03, MAE 74191.15\n",
      "Fold 06: Train weeks 6-57, Test weeks 58-65 → MAPE 0.03, MAE 93055.18\n",
      "Fold 07: Train weeks 7-58, Test weeks 59-66 → MAPE 0.03, MAE 84775.92\n",
      "Fold 08: Train weeks 8-59, Test weeks 60-67 → MAPE 0.03, MAE 71879.97\n",
      "Fold 09: Train weeks 9-60, Test weeks 61-68 → MAPE 0.03, MAE 88573.37\n",
      "Fold 10: Train weeks 10-61, Test weeks 62-69 → MAPE 0.04, MAE 94929.99\n",
      "Fold 11: Train weeks 11-62, Test weeks 63-70 → MAPE 0.04, MAE 98270.46\n",
      "Fold 12: Train weeks 12-63, Test weeks 64-71 → MAPE 0.04, MAE 96245.34\n",
      "Fold 13: Train weeks 13-64, Test weeks 65-72 → MAPE 0.04, MAE 104168.58\n",
      "Fold 14: Train weeks 14-65, Test weeks 66-73 → MAPE 0.04, MAE 122101.37\n",
      "Fold 15: Train weeks 15-66, Test weeks 67-74 → MAPE 0.06, MAE 168377.58\n",
      "Fold 16: Train weeks 16-67, Test weeks 68-75 → MAPE 0.06, MAE 170383.88\n",
      "Fold 17: Train weeks 17-68, Test weeks 69-76 → MAPE 0.05, MAE 168520.03\n",
      "Fold 18: Train weeks 18-69, Test weeks 70-77 → MAPE 0.05, MAE 202274.53\n",
      "Fold 19: Train weeks 19-70, Test weeks 71-78 → MAPE 0.07, MAE 260434.65\n",
      "Fold 20: Train weeks 20-71, Test weeks 72-79 → MAPE 0.07, MAE 273175.05\n",
      "Fold 21: Train weeks 21-72, Test weeks 73-80 → MAPE 0.06, MAE 238250.59\n",
      "Fold 22: Train weeks 22-73, Test weeks 74-81 → MAPE 0.06, MAE 224832.49\n",
      "Fold 23: Train weeks 23-74, Test weeks 75-82 → MAPE 0.06, MAE 239079.16\n",
      "Fold 24: Train weeks 24-75, Test weeks 76-83 → MAPE 0.06, MAE 246459.52\n",
      "Fold 25: Train weeks 25-76, Test weeks 77-84 → MAPE 0.04, MAE 155988.88\n",
      "Fold 26: Train weeks 26-77, Test weeks 78-85 → MAPE 0.04, MAE 127768.54\n",
      "Fold 27: Train weeks 27-78, Test weeks 79-86 → MAPE 0.04, MAE 141584.59\n",
      "Fold 28: Train weeks 28-79, Test weeks 80-87 → MAPE 0.05, MAE 166441.22\n",
      "Fold 29: Train weeks 29-80, Test weeks 81-88 → MAPE 0.04, MAE 129173.99\n",
      "Fold 30: Train weeks 30-81, Test weeks 82-89 → MAPE 0.04, MAE 169026.40\n",
      "Fold 31: Train weeks 31-82, Test weeks 83-90 → MAPE 0.09, MAE 595571.07\n",
      "Fold 32: Train weeks 32-83, Test weeks 84-91 → MAPE 0.09, MAE 663104.36\n",
      "Fold 33: Train weeks 33-84, Test weeks 85-92 → MAPE 0.10, MAE 646998.94\n",
      "Fold 34: Train weeks 34-85, Test weeks 86-93 → MAPE 0.16, MAE 961564.21\n",
      "Fold 35: Train weeks 35-86, Test weeks 87-94 → MAPE 0.17, MAE 977833.36\n",
      "Fold 36: Train weeks 36-87, Test weeks 88-95 → MAPE 0.11, MAE 661580.03\n",
      "Fold 37: Train weeks 37-88, Test weeks 89-96 → MAPE 0.19, MAE 1029713.88\n",
      "Fold 38: Train weeks 38-89, Test weeks 90-97 → MAPE 0.17, MAE 930244.35\n",
      "Fold 39: Train weeks 39-90, Test weeks 91-98 → MAPE 0.32, MAE 1344265.04\n",
      "Fold 40: Train weeks 40-91, Test weeks 92-99 → MAPE 0.32, MAE 1348728.54\n",
      "Fold 41: Train weeks 41-92, Test weeks 93-100 → MAPE 0.34, MAE 1427437.90\n",
      "Fold 42: Train weeks 42-93, Test weeks 94-101 → MAPE 0.07, MAE 257340.12\n",
      "Fold 43: Train weeks 43-94, Test weeks 95-102 → MAPE 0.06, MAE 249965.19\n",
      "Fold 44: Train weeks 44-95, Test weeks 96-103 → MAPE 0.07, MAE 305681.69\n",
      "Fold 45: Train weeks 45-96, Test weeks 97-104 → MAPE 0.08, MAE 326185.51\n",
      "Fold 46: Train weeks 46-97, Test weeks 98-105 → MAPE 0.08, MAE 331010.36\n",
      "Fold 47: Train weeks 47-98, Test weeks 99-106 → MAPE 0.06, MAE 205427.27\n",
      "Fold 48: Train weeks 48-99, Test weeks 100-107 → MAPE 0.06, MAE 223577.23\n",
      "Fold 49: Train weeks 49-100, Test weeks 101-108 → MAPE 0.07, MAE 226184.17\n",
      "Fold 50: Train weeks 50-101, Test weeks 102-109 → MAPE 0.06, MAE 200998.30\n",
      "Fold 51: Train weeks 51-102, Test weeks 103-110 → MAPE 0.06, MAE 188477.74\n",
      "Fold 52: Train weeks 52-103, Test weeks 104-111 → MAPE 0.07, MAE 220575.08\n",
      "Fold 53: Train weeks 53-104, Test weeks 105-112 → MAPE 0.04, MAE 138226.97\n",
      "Fold 54: Train weeks 54-105, Test weeks 106-113 → MAPE 0.05, MAE 155041.13\n",
      "Fold 55: Train weeks 55-106, Test weeks 107-114 → MAPE 0.03, MAE 96829.36\n",
      "Fold 56: Train weeks 56-107, Test weeks 108-115 → MAPE 0.03, MAE 98280.72\n",
      "Fold 57: Train weeks 57-108, Test weeks 109-116 → MAPE 0.04, MAE 108630.43\n",
      "Fold 58: Train weeks 58-109, Test weeks 110-117 → MAPE 0.04, MAE 105409.59\n",
      "Fold 59: Train weeks 59-110, Test weeks 111-118 → MAPE 0.02, MAE 65733.92\n",
      "Fold 60: Train weeks 60-111, Test weeks 112-119 → MAPE 0.02, MAE 53864.66\n",
      "Fold 61: Train weeks 61-112, Test weeks 113-120 → MAPE 0.02, MAE 62802.02\n",
      "Fold 62: Train weeks 62-113, Test weeks 114-121 → MAPE 0.03, MAE 84425.32\n",
      "Fold 63: Train weeks 63-114, Test weeks 115-122 → MAPE 0.04, MAE 121226.09\n",
      "Fold 64: Train weeks 64-115, Test weeks 116-123 → MAPE 0.04, MAE 136716.11\n",
      "Fold 65: Train weeks 65-116, Test weeks 117-124 → MAPE 0.06, MAE 177060.48\n",
      "Fold 66: Train weeks 66-117, Test weeks 118-125 → MAPE 0.05, MAE 163827.98\n",
      "Fold 67: Train weeks 67-118, Test weeks 119-126 → MAPE 0.06, MAE 192349.07\n",
      "Fold 68: Train weeks 68-119, Test weeks 120-127 → MAPE 0.05, MAE 165026.11\n",
      "Fold 69: Train weeks 69-120, Test weeks 121-128 → MAPE 0.16, MAE 694464.96\n",
      "Fold 70: Train weeks 70-121, Test weeks 122-129 → MAPE 0.15, MAE 676266.59\n",
      "Fold 71: Train weeks 71-122, Test weeks 123-130 → MAPE 0.15, MAE 659587.80\n",
      "Fold 72: Train weeks 72-123, Test weeks 124-131 → MAPE 0.15, MAE 683564.41\n",
      "Fold 73: Train weeks 73-124, Test weeks 125-132 → MAPE 0.22, MAE 1073961.67\n",
      "Fold 74: Train weeks 74-125, Test weeks 126-133 → MAPE 0.21, MAE 1054371.45\n",
      "Fold 75: Train weeks 75-126, Test weeks 127-134 → MAPE 0.21, MAE 1043792.35\n",
      "Fold 76: Train weeks 76-127, Test weeks 128-135 → MAPE 0.21, MAE 1054292.90\n",
      "Fold 77: Train weeks 77-128, Test weeks 129-136 → MAPE 0.05, MAE 194895.12\n",
      "Fold 78: Train weeks 78-129, Test weeks 130-137 → MAPE 0.04, MAE 163345.25\n",
      "Fold 79: Train weeks 79-130, Test weeks 131-138 → MAPE 0.04, MAE 151443.89\n",
      "Fold 80: Train weeks 80-131, Test weeks 132-139 → MAPE 0.04, MAE 163382.92\n",
      "Fold 81: Train weeks 81-132, Test weeks 133-140 → MAPE 0.02, MAE 82135.71\n",
      "Fold 82: Train weeks 82-133, Test weeks 134-141 → MAPE 0.03, MAE 120562.83\n",
      "Fold 83: Train weeks 83-134, Test weeks 135-142 → MAPE 0.05, MAE 281560.66\n",
      "Fold 84: Train weeks 84-135, Test weeks 136-143 → MAPE 0.09, MAE 612140.41\n",
      "Fold 85: Train weeks 85-136, Test weeks 137-144 → MAPE 0.10, MAE 643872.63\n",
      "Fold 86: Train weeks 86-137, Test weeks 138-145 → MAPE 0.10, MAE 678554.98\n",
      "Fold 87: Train weeks 87-138, Test weeks 139-146 → MAPE 0.11, MAE 681114.17\n",
      "Fold 88: Train weeks 88-139, Test weeks 140-147 → MAPE 0.11, MAE 673588.05\n",
      "Fold 89: Train weeks 89-140, Test weeks 141-148 → MAPE 0.11, MAE 677253.56\n",
      "Fold 90: Train weeks 90-141, Test weeks 142-149 → MAPE 0.09, MAE 571919.11\n",
      "Fold 91: Train weeks 91-142, Test weeks 143-150 → MAPE 0.09, MAE 554267.32\n",
      "Fold 92: Train weeks 92-143, Test weeks 144-151 → MAPE 0.05, MAE 202371.67\n",
      "Fold 93: Train weeks 93-144, Test weeks 145-152 → MAPE 0.05, MAE 213787.54\n",
      "Fold 94: Train weeks 94-145, Test weeks 146-153 → MAPE 0.06, MAE 223779.04\n",
      "Fold 95: Train weeks 95-146, Test weeks 147-154 → MAPE 0.06, MAE 239285.99\n",
      "Fold 96: Train weeks 96-147, Test weeks 148-155 → MAPE 0.05, MAE 245708.58\n",
      "Fold 97: Train weeks 97-148, Test weeks 149-156 → MAPE 0.06, MAE 279522.55\n",
      "Fold 98: Train weeks 98-149, Test weeks 150-157 → MAPE 0.06, MAE 277545.16\n",
      "Fold 99: Train weeks 99-150, Test weeks 151-158 → MAPE 0.06, MAE 259555.01\n",
      "Fold 100: Train weeks 100-151, Test weeks 152-159 → MAPE 0.07, MAE 294431.77\n",
      "Fold 101: Train weeks 101-152, Test weeks 153-160 → MAPE 0.08, MAE 317161.09\n",
      "Fold 102: Train weeks 102-153, Test weeks 154-161 → MAPE 0.03, MAE 137284.87\n",
      "Fold 103: Train weeks 103-154, Test weeks 155-162 → MAPE 0.03, MAE 134696.79\n",
      "Fold 104: Train weeks 104-155, Test weeks 156-163 → MAPE 0.04, MAE 168403.79\n",
      "Fold 105: Train weeks 105-156, Test weeks 157-164 → MAPE 0.04, MAE 157290.78\n",
      "Fold 106: Train weeks 106-157, Test weeks 158-165 → MAPE 0.04, MAE 164647.57\n",
      "\n",
      "CV mean MAPE: 0.0762661270334337 MAE: 341396.0756308962\n"
     ]
    }
   ],
   "source": [
    "# --- 2. Carve off final hold-out (last 8 weeks) ----------------------------\n",
    "H = 8    # hold-out horizon\n",
    "train_cut = len(df) - H\n",
    "X_hist, y_hist = X[:train_cut], y[:train_cut]\n",
    "dates_hist = dates[:train_cut]\n",
    "\n",
    "X_final, y_final = X[train_cut:], y[train_cut:]\n",
    "dates_final = dates[train_cut:]\n",
    "\n",
    "# --- 3. Rolling-origin CV on history ----------------------------------------\n",
    "W = 52   # training window\n",
    "h = 8    # test window\n",
    "scores = []\n",
    "\n",
    "# we can only start a fold where (start + W + h) ≤ len(history)\n",
    "n_folds = (len(X_hist) - W - h) + 1\n",
    "\n",
    "for i in range(n_folds):\n",
    "    train_start = i\n",
    "    train_end   = i + W          # exclusive\n",
    "    test_end    = train_end + h  # exclusive\n",
    "\n",
    "    X_tr = X_hist[train_start:train_end]\n",
    "    y_tr = y_hist[train_start:train_end]\n",
    "    X_va = X_hist[train_end:test_end]\n",
    "    y_va = y_hist[train_end:test_end]\n",
    "\n",
    "    # train\n",
    "    final_model = xg.XGBRegressor(n_estimators=300, max_depth=5, learning_rate=0.10, \n",
    "                        min_child_weight = 0.3, random_state=42, n_jobs=-1)\n",
    "    final_model.fit(X_tr, y_tr)\n",
    "\n",
    "    # predict & score\n",
    "    y_pred = final_model.predict(X_va)\n",
    "    mae = mean_absolute_error(y_va, y_pred)\n",
    "    mse = mean_squared_error(y_va, y_pred)\n",
    "    rmse = np.sqrt(mse)\n",
    "    mape = mean_absolute_percentage_error(y_va, y_pred)\n",
    "    r2 = r2_score(y_va, y_pred)\n",
    "\n",
    "    scores.append({'fold': i+1, 'mse': mse, 'mae': mae, 'rmse': rmse, 'mape': mape, 'r2': r2})\n",
    "\n",
    "    print(f\"Fold {i+1:02d}: Train weeks {train_start+1}-{train_end}, \"\n",
    "          f\"Test weeks {train_end+1}-{test_end} → MAPE {mape:.2f}, MAE {mae:.2f}\")\n",
    "\n",
    "cv_df = pd.DataFrame(scores)\n",
    "print(\"\\nCV mean MAPE:\", cv_df['mape'].mean(), \"MAE:\", cv_df['mae'].mean())"
   ]
  },
  {
   "cell_type": "code",
   "execution_count": 31,
   "id": "b261b89f",
   "metadata": {},
   "outputs": [
    {
     "data": {
      "text/plain": [
       "np.float64(0.0762661270334337)"
      ]
     },
     "execution_count": 31,
     "metadata": {},
     "output_type": "execute_result"
    }
   ],
   "source": [
    "cv_df['mape'].mean()"
   ]
  },
  {
   "cell_type": "code",
   "execution_count": 32,
   "id": "aece4262",
   "metadata": {},
   "outputs": [
    {
     "data": {
      "image/png": "[encoded data removed]",
      "text/plain": [
       "<Figure size 640x480 with 1 Axes>"
      ]
     },
     "metadata": {},
     "output_type": "display_data"
    }
   ],
   "source": [
    "# --- 4. Plot CV metrics ----------------------------------------------------\n",
    "plt.figure()\n",
    "plt.plot(cv_df['fold'], cv_df['mape'], marker='o', label='MAPE')\n",
    "# plt.plot(cv_df['fold'], cv_df['mae'], marker='s', label='MAE')\n",
    "plt.xlabel(\"Fold\")\n",
    "plt.ylabel(\"Error\")\n",
    "plt.title(f\"Rolling-origin CV (W={W}, h={H})\")\n",
    "plt.legend()\n",
    "plt.tight_layout()\n",
    "plt.show()"
   ]
  },
  {
   "cell_type": "code",
   "execution_count": 33,
   "id": "45c52372",
   "metadata": {},
   "outputs": [
    {
     "name": "stdout",
     "output_type": "stream",
     "text": [
      "\n",
      "Final 8-week hold-out → MAPE: 0.03904080643155283 MSE: 25324698392.83797 MAE: 136412.8187500001\n"
     ]
    },
    {
     "data": {
      "image/png": "[encoded data removed]",
      "text/plain": [
       "<Figure size 640x480 with 1 Axes>"
      ]
     },
     "metadata": {},
     "output_type": "display_data"
    }
   ],
   "source": [
    "# --- 5. Final hold-out evaluation on last 52 weeks data -----------------------------------------\n",
    "y_final_pred = final_model.predict(X_final)\n",
    "print(\"\\nFinal 8-week hold-out →\",\n",
    "      \"MAPE:\", mean_absolute_percentage_error(y_final, y_final_pred),\n",
    "      \"MSE:\", mean_squared_error(y_final, y_final_pred),\n",
    "      \"MAE:\", mean_absolute_error(y_final, y_final_pred))\n",
    "\n",
    "plt.figure()\n",
    "plt.plot(dates_final, y_final,  marker='o', label='Actual')\n",
    "plt.plot(dates_final, y_final_pred, marker='x', label='Predicted')\n",
    "plt.xlabel(\"Date\")\n",
    "plt.ylabel(\"Sales\")\n",
    "plt.title(\"Final Hold-out (last 8 weeks)\")\n",
    "plt.xticks(rotation=45)\n",
    "plt.legend()\n",
    "plt.tight_layout()\n",
    "plt.show()"
   ]
  },
  {
   "cell_type": "code",
   "execution_count": 36,
   "id": "0ffb1ed3",
   "metadata": {},
   "outputs": [
    {
     "data": {
      "text/plain": [
       "['./cogs/model/cogs_model.joblib']"
      ]
     },
     "execution_count": 36,
     "metadata": {},
     "output_type": "execute_result"
    }
   ],
   "source": [
    "import os\n",
    "import joblib\n",
    "\n",
    "# save model\n",
    "joblib.dump(final_model, './cogs/model/cogs_model.joblib')"
   ]
  },
  {
   "cell_type": "code",
   "execution_count": 37,
   "id": "0e3e3de8",
   "metadata": {},
   "outputs": [
    {
     "data": {
      "image/png": "[encoded data removed]",
      "text/plain": [
       "<Figure size 640x480 with 1 Axes>"
      ]
     },
     "metadata": {},
     "output_type": "display_data"
    }
   ],
   "source": [
    "# --- 6. Feature importances -----------------------------------------------\n",
    "importances = pd.Series(final_model.feature_importances_, index=SELECTED_FEATURES_TO_KEEP)\n",
    "importances = importances.sort_values(ascending=False)\n",
    "\n",
    "plt.figure()\n",
    "plt.barh(importances.index, importances.values)\n",
    "plt.gca().invert_yaxis()\n",
    "plt.xlabel(\"Importance\")\n",
    "plt.title(\"Feature Importances\")\n",
    "plt.tight_layout()\n",
    "plt.show()"
   ]
  },
  {
   "cell_type": "code",
   "execution_count": null,
   "id": "a36b913b",
   "metadata": {},
   "outputs": [],
   "source": []
  }
 ],
 "metadata": {
  "kernelspec": {
   "display_name": ".venv",
   "language": "python",
   "name": "python3"
  },
  "language_info": {
   "codemirror_mode": {
    "name": "ipython",
    "version": 3
   },
   "file_extension": ".py",
   "mimetype": "text/x-python",
   "name": "python",
   "nbconvert_exporter": "python",
   "pygments_lexer": "ipython3",
   "version": "3.13.2"
  }
 },
 "nbformat": 4,
 "nbformat_minor": 5
}
