{
 "cells": [
  {
   "cell_type": "markdown",
   "id": "7d691ba1",
   "metadata": {},
   "source": [
    "# Feature Selection for Gradient Boosting Model"
   ]
  },
  {
   "cell_type": "code",
   "execution_count": 8,
   "id": "88173254",
   "metadata": {},
   "outputs": [],
   "source": [
    "import pandas as pd\n",
    "from sklearn.linear_model import LinearRegression\n",
    "from sklearn.feature_selection import SequentialFeatureSelector\n",
    "from sklearn.metrics import mean_squared_error\n",
    "from sklearn.ensemble import RandomForestRegressor, GradientBoostingRegressor\n",
    "\n",
    "from sklearn.metrics import (\n",
    "    mean_absolute_error,\n",
    "    mean_squared_error,\n",
    "    r2_score,\n",
    "    mean_absolute_percentage_error,\n",
    "    explained_variance_score\n",
    ")"
   ]
  },
  {
   "cell_type": "code",
   "execution_count": 9,
   "id": "3e3e75e9",
   "metadata": {},
   "outputs": [
    {
     "name": "stdout",
     "output_type": "stream",
     "text": [
      "Training data range 2023-11-06 00:00:00 2025-04-28 00:00:00\n",
      "Validation data range 2025-05-05 00:00:00 2025-06-23 00:00:00\n"
     ]
    }
   ],
   "source": [
    "DATA_PATH = 'Data_for_taining_18072025.csv'\n",
    "TARGET = 'cogs_eur'\n",
    "FEATURES = [\n",
    "'aov_eur',\n",
    "'available_stock_value_after_discount_complete_eur',\n",
    "'avg_temp',\n",
    "'cpc',\n",
    "'cr_tracked_%',\n",
    "'email_recipients',\n",
    "'email_visits',\n",
    "'internalWeeks_until_SeasonalSaleStart',\n",
    "'internal_Week_of_FW_Season',\n",
    "'internal_Week_of_SS_Season',\n",
    "'is_Peak_Driving_Public_Holiday_week',\n",
    "'is_Sun_to_Mon_Shift_week',\n",
    "'is_black_week_event',\n",
    "'is_email_campaign_type_deal',\n",
    "'is_email_campaign_type_liveshop',\n",
    "'is_email_campaign_type_newsletter',\n",
    "'is_percentage_on_top',\n",
    "'is_percentage_on_top_applicable',\n",
    "'is_season_sale_event',\n",
    "'is_temp_drop_flag',\n",
    "'number_days_after_last_event',\n",
    "'number_days_till_next_event',\n",
    "'number_orders',\n",
    "'number_visits',\n",
    "'sku_with_discount_%',\n",
    "'stock_discount_rate_total_%',\n",
    "'target_cpr'\n",
    "]\n",
    "df = pd.read_csv(DATA_PATH)\n",
    "df.rename(columns={'Unnamed: 0': 'date'}, inplace=True)\n",
    "df['date'] = pd.to_datetime(df['date'])\n",
    "df.sort_values('date', inplace=True)\n",
    "df.set_index('date', inplace=True)\n",
    "df = df.iloc[1:-1]  # drop first and last week\n",
    "\n",
    "number_of_weeks_to_be_consider = 78\n",
    "val = df.iloc[-8:]\n",
    "val_start = val.index[0]\n",
    "train_1y = df.loc[val_start - pd.DateOffset(weeks=number_of_weeks_to_be_consider) : val_start - pd.DateOffset(weeks=1)]\n",
    "\n",
    "X_train = train_1y[FEATURES]\n",
    "y_train = train_1y[TARGET]\n",
    "X_valid = val[FEATURES]\n",
    "y_valid = val[TARGET]\n",
    "\n",
    "print('Training data range', X_train.index.min(), X_train.index.max())\n",
    "print('Validation data range', X_valid.index.min(), X_valid.index.max())"
   ]
  },
  {
   "cell_type": "markdown",
   "id": "9ce3ba13",
   "metadata": {},
   "source": [
    "## Forward Feature Selection"
   ]
  },
  {
   "cell_type": "code",
   "execution_count": 10,
   "id": "99a5490f",
   "metadata": {},
   "outputs": [
    {
     "name": "stdout",
     "output_type": "stream",
     "text": [
      "Forward‑selected features: ['aov_eur', 'cpc', 'internalWeeks_until_SeasonalSaleStart', 'internal_Week_of_FW_Season', 'is_Peak_Driving_Public_Holiday_week', 'is_Sun_to_Mon_Shift_week', 'is_email_campaign_type_deal', 'is_email_campaign_type_liveshop', 'is_percentage_on_top_applicable', 'is_season_sale_event', 'is_temp_drop_flag', 'number_orders', 'sku_with_discount_%']\n"
     ]
    }
   ],
   "source": [
    "# --- feature selection setup ---\n",
    "from tabnanny import verbose\n",
    "\n",
    "\n",
    "base_model = GradientBoostingRegressor(random_state=42, min_samples_split=0.04, n_estimators= 300, max_depth= 7, learning_rate=0.2)\n",
    "\n",
    "# forward selection: add features one at a time\n",
    "sfs_forward = SequentialFeatureSelector(\n",
    "    base_model,\n",
    "    n_features_to_select='auto',        # let it choose until score stops improving\n",
    "    direction='forward',\n",
    "    scoring='neg_mean_squared_error',\n",
    "    cv=5,                               # 5‑fold CV inside the selector\n",
    "    n_jobs=-1\n",
    ")\n",
    "sfs_forward.fit(X_train, y_train)\n",
    "selected_forward = list(X_train.columns[sfs_forward.get_support()])\n",
    "print(\"Forward‑selected features:\", selected_forward)"
   ]
  },
  {
   "cell_type": "markdown",
   "id": "707734ea",
   "metadata": {},
   "source": [
    "## Backward Feature Selection"
   ]
  },
  {
   "cell_type": "code",
   "execution_count": 11,
   "id": "708be7cd",
   "metadata": {},
   "outputs": [
    {
     "name": "stdout",
     "output_type": "stream",
     "text": [
      "Backward‑selected features: ['aov_eur', 'available_stock_value_after_discount_complete_eur', 'email_visits', 'internal_Week_of_FW_Season', 'is_Sun_to_Mon_Shift_week', 'is_email_campaign_type_deal', 'is_email_campaign_type_liveshop', 'is_percentage_on_top', 'is_season_sale_event', 'is_temp_drop_flag', 'number_days_till_next_event', 'number_orders', 'sku_with_discount_%', 'stock_discount_rate_total_%']\n"
     ]
    }
   ],
   "source": [
    "# backward selection: remove features one at a time\n",
    "sfs_backward = SequentialFeatureSelector(\n",
    "    base_model,\n",
    "    n_features_to_select='auto',\n",
    "    direction='backward',\n",
    "    scoring='neg_mean_squared_error',\n",
    "    cv=5,\n",
    "    n_jobs=-1\n",
    ")\n",
    "sfs_backward.fit(X_train, y_train)\n",
    "selected_backward = list(X_train.columns[sfs_backward.get_support()])\n",
    "print(\"Backward‑selected features:\", selected_backward)"
   ]
  },
  {
   "cell_type": "markdown",
   "id": "c6e58a10",
   "metadata": {},
   "source": [
    "## Combining both features"
   ]
  },
  {
   "cell_type": "code",
   "execution_count": 12,
   "id": "3edd4d74",
   "metadata": {},
   "outputs": [
    {
     "name": "stdout",
     "output_type": "stream",
     "text": [
      "Total features 18\n"
     ]
    },
    {
     "data": {
      "text/plain": [
       "['internal_Week_of_FW_Season',\n",
       " 'aov_eur',\n",
       " 'number_orders',\n",
       " 'is_percentage_on_top_applicable',\n",
       " 'sku_with_discount_%',\n",
       " 'email_visits',\n",
       " 'is_email_campaign_type_liveshop',\n",
       " 'stock_discount_rate_total_%',\n",
       " 'available_stock_value_after_discount_complete_eur',\n",
       " 'cpc',\n",
       " 'is_Peak_Driving_Public_Holiday_week',\n",
       " 'is_Sun_to_Mon_Shift_week',\n",
       " 'is_email_campaign_type_deal',\n",
       " 'is_season_sale_event',\n",
       " 'number_days_till_next_event',\n",
       " 'is_temp_drop_flag',\n",
       " 'is_percentage_on_top',\n",
       " 'internalWeeks_until_SeasonalSaleStart']"
      ]
     },
     "execution_count": 12,
     "metadata": {},
     "output_type": "execute_result"
    }
   ],
   "source": [
    " # add both \n",
    "all_feature_selected_by_selector = selected_forward + selected_backward\n",
    "all_feature_selected_by_selector = list(set(all_feature_selected_by_selector))\n",
    "print('Total features', len(all_feature_selected_by_selector))\n",
    "all_feature_selected_by_selector"
   ]
  },
  {
   "cell_type": "code",
   "execution_count": 13,
   "id": "f3f1de38",
   "metadata": {},
   "outputs": [
    {
     "name": "stdout",
     "output_type": "stream",
     "text": [
      "Validation MSE (all_features): 46468388323.0920\n",
      "Validation R2 (all_features): 0.5378\n",
      "Validation MSE (forward): 23729628322.6419\n",
      "Validation R2 (forward): 0.7640\n",
      "Validation MSE (backward): 25664420836.5939\n",
      "Validation R2 (backward): 0.7448\n",
      "Validation MSE (fwd_bwd): 31796418733.5991\n",
      "Validation R2 (fwd_bwd): 0.6838\n"
     ]
    }
   ],
   "source": [
    "# --- evaluate both on the hold‑out validation set ---\n",
    "def train_and_eval(base_model, features):\n",
    "    result_dict = {}\n",
    "    mdl = base_model.fit(X_train[features], y_train)\n",
    "    preds = mdl.predict(X_valid[features])\n",
    "    mse = mean_squared_error(y_valid, preds)\n",
    "    r2 = r2_score(y_valid, preds)\n",
    "    result_dict['r2'] = r2\n",
    "    result_dict['mse'] = mse\n",
    "    return result_dict\n",
    "\n",
    "all_features = train_and_eval(base_model, FEATURES)\n",
    "mse_fwd = train_and_eval(base_model, selected_forward)\n",
    "mse_bwd = train_and_eval(base_model, selected_backward)\n",
    "fwd_bwd = train_and_eval(base_model, all_feature_selected_by_selector)\n",
    "\n",
    "print(f\"Validation MSE (all_features): {all_features['mse']:.4f}\")\n",
    "print(f\"Validation R2 (all_features): {all_features['r2']:.4f}\")\n",
    "\n",
    "print(f\"Validation MSE (forward): {mse_fwd['mse']:.4f}\")\n",
    "print(f\"Validation R2 (forward): {mse_fwd['r2']:.4f}\")\n",
    "\n",
    "print(f\"Validation MSE (backward): {mse_bwd['mse']:.4f}\")\n",
    "print(f\"Validation R2 (backward): {mse_bwd['r2']:.4f}\")\n",
    "\n",
    "print(f\"Validation MSE (fwd_bwd): {fwd_bwd['mse']:.4f}\")\n",
    "print(f\"Validation R2 (fwd_bwd): {fwd_bwd['r2']:.4f}\")\n"
   ]
  }
 ],
 "metadata": {
  "kernelspec": {
   "display_name": ".venv",
   "language": "python",
   "name": "python3"
  },
  "language_info": {
   "codemirror_mode": {
    "name": "ipython",
    "version": 3
   },
   "file_extension": ".py",
   "mimetype": "text/x-python",
   "name": "python",
   "nbconvert_exporter": "python",
   "pygments_lexer": "ipython3",
   "version": "3.13.2"
  }
 },
 "nbformat": 4,
 "nbformat_minor": 5
}
