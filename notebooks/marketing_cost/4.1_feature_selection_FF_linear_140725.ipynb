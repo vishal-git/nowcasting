{
 "cells": [
  {
   "cell_type": "markdown",
   "id": "5851635e",
   "metadata": {},
   "source": [
    "# Feature Selection for Linear Regression Model"
   ]
  },
  {
   "cell_type": "code",
   "execution_count": 1,
   "id": "88173254",
   "metadata": {},
   "outputs": [],
   "source": [
    "import pandas as pd\n",
    "from sklearn.linear_model import LinearRegression\n",
    "from sklearn.feature_selection import SequentialFeatureSelector\n",
    "from sklearn.metrics import mean_squared_error"
   ]
  },
  {
   "cell_type": "code",
   "execution_count": 2,
   "id": "3e3e75e9",
   "metadata": {},
   "outputs": [
    {
     "name": "stdout",
     "output_type": "stream",
     "text": [
      "Training data range 2023-05-08 00:00:00 2025-04-28 00:00:00\n",
      "Validation data range 2025-05-05 00:00:00 2025-06-23 00:00:00\n"
     ]
    }
   ],
   "source": [
    "DATA_PATH = 'Data_for_taining_14072025.csv'\n",
    "TARGET = 'marketing_cost'\n",
    "FEATURES = [\n",
    "        'aov_eur',\n",
    "        'available_stock_value_after_discount_complete_eur',\n",
    "        'avg_temp',\n",
    "        'cpc',\n",
    "        'cr_tracked_%',\n",
    "        'email_recipients',\n",
    "        'email_visits',\n",
    "        'internalWeeks_until_SeasonalSaleStart',\n",
    "        'internal_Week_of_FW_Season',\n",
    "        'internal_Week_of_SS_Season',\n",
    "        'is_Peak_Driving_Public_Holiday_week',\n",
    "        'is_Sun_to_Mon_Shift_week',\n",
    "        'is_black_week_event',\n",
    "        'is_email_campaign_type_deal',\n",
    "        'is_email_campaign_type_liveshop',\n",
    "        'is_email_campaign_type_newsletter',\n",
    "        'is_percentage_on_top',\n",
    "        'is_percentage_on_top_applicable',\n",
    "        'is_season_sale_event',\n",
    "        'is_temp_drop_flag',\n",
    "        'number_days_after_last_event',\n",
    "        'number_days_till_next_event',\n",
    "        'number_orders',\n",
    "        'number_visits',\n",
    "        'sku_with_discount_%',\n",
    "        'stock_discount_rate_total_%',\n",
    "        'target_cpr'\n",
    "]\n",
    "\n",
    "df = pd.read_csv(DATA_PATH)\n",
    "df.rename(columns={'Unnamed: 0': 'date'}, inplace=True)\n",
    "df['date'] = pd.to_datetime(df['date'])\n",
    "df.sort_values('date', inplace=True)\n",
    "df.set_index('date', inplace=True)\n",
    "df = df.iloc[1:-1]  # drop first and last week\n",
    "\n",
    "number_of_weeks_to_be_consider = 104\n",
    "val = df.iloc[-8:]\n",
    "val_start = val.index[0]\n",
    "train_1y = df.loc[val_start - pd.DateOffset(weeks=number_of_weeks_to_be_consider) : val_start - pd.DateOffset(weeks=1)]\n",
    "\n",
    "X_train = train_1y[FEATURES]\n",
    "y_train = train_1y[TARGET]\n",
    "X_valid = val[FEATURES]\n",
    "y_valid = val[TARGET]\n",
    "\n",
    "print('Training data range', X_train.index.min(), X_train.index.max())\n",
    "print('Validation data range', X_valid.index.min(), X_valid.index.max())"
   ]
  },
  {
   "cell_type": "code",
   "execution_count": 3,
   "id": "99a5490f",
   "metadata": {},
   "outputs": [
    {
     "name": "stdout",
     "output_type": "stream",
     "text": [
      "Forward‑selected features: ['available_stock_value_after_discount_complete_eur', 'avg_temp', 'cpc', 'email_visits', 'internal_Week_of_FW_Season', 'internal_Week_of_SS_Season', 'is_black_week_event', 'is_email_campaign_type_deal', 'is_percentage_on_top_applicable', 'is_temp_drop_flag', 'number_orders', 'number_visits', 'stock_discount_rate_total_%']\n"
     ]
    }
   ],
   "source": [
    "# --- feature selection setup ---\n",
    "from tabnanny import verbose\n",
    "\n",
    "\n",
    "base_model = LinearRegression()\n",
    "\n",
    "# forward selection: add features one at a time\n",
    "sfs_forward = SequentialFeatureSelector(\n",
    "    base_model,\n",
    "    n_features_to_select='auto',        # let it choose until score stops improving\n",
    "    direction='forward',\n",
    "    scoring='neg_mean_squared_error',\n",
    "    cv=5,                               # 5‑fold CV inside the selector\n",
    "    n_jobs=-1\n",
    ")\n",
    "sfs_forward.fit(X_train, y_train)\n",
    "selected_forward = list(X_train.columns[sfs_forward.get_support()])\n",
    "print(\"Forward‑selected features:\", selected_forward)"
   ]
  },
  {
   "cell_type": "code",
   "execution_count": 4,
   "id": "708be7cd",
   "metadata": {},
   "outputs": [
    {
     "name": "stdout",
     "output_type": "stream",
     "text": [
      "Backward‑selected features: ['available_stock_value_after_discount_complete_eur', 'cpc', 'cr_tracked_%', 'email_recipients', 'email_visits', 'internal_Week_of_FW_Season', 'internal_Week_of_SS_Season', 'is_black_week_event', 'is_percentage_on_top_applicable', 'is_season_sale_event', 'is_temp_drop_flag', 'number_orders', 'stock_discount_rate_total_%', 'target_cpr']\n"
     ]
    }
   ],
   "source": [
    "# backward selection: remove features one at a time\n",
    "sfs_backward = SequentialFeatureSelector(\n",
    "    base_model,\n",
    "    n_features_to_select='auto',\n",
    "    direction='backward',\n",
    "    scoring='neg_mean_squared_error',\n",
    "    cv=5,\n",
    "    n_jobs=-1\n",
    ")\n",
    "sfs_backward.fit(X_train, y_train)\n",
    "selected_backward = list(X_train.columns[sfs_backward.get_support()])\n",
    "print(\"Backward‑selected features:\", selected_backward)"
   ]
  },
  {
   "cell_type": "code",
   "execution_count": 5,
   "id": "b7746213",
   "metadata": {},
   "outputs": [
    {
     "name": "stdout",
     "output_type": "stream",
     "text": [
      "Validation MSE (forward): 219859172.8814\n",
      "Validation MSE (backward): 420744212.1680\n"
     ]
    }
   ],
   "source": [
    "# --- evaluate both on the hold‑out validation set ---\n",
    "def train_and_eval(features):\n",
    "    mdl = LinearRegression().fit(X_train[features], y_train)\n",
    "    preds = mdl.predict(X_valid[features])\n",
    "    mse = mean_squared_error(y_valid, preds)\n",
    "    return mse\n",
    "\n",
    "mse_fwd = train_and_eval(selected_forward)\n",
    "mse_bwd = train_and_eval(selected_backward)\n",
    "\n",
    "print(f\"Validation MSE (forward): {mse_fwd:.4f}\")\n",
    "print(f\"Validation MSE (backward): {mse_bwd:.4f}\")\n"
   ]
  },
  {
   "cell_type": "markdown",
   "id": "bea9972e",
   "metadata": {},
   "source": [
    "- Backward is performing better"
   ]
  },
  {
   "cell_type": "code",
   "execution_count": 6,
   "id": "e1fc1ce7",
   "metadata": {},
   "outputs": [
    {
     "data": {
      "text/plain": [
       "['stock_discount_rate_total_%',\n",
       " 'email_visits',\n",
       " 'internal_Week_of_FW_Season',\n",
       " 'is_temp_drop_flag',\n",
       " 'number_orders',\n",
       " 'cpc',\n",
       " 'available_stock_value_after_discount_complete_eur',\n",
       " 'internal_Week_of_SS_Season',\n",
       " 'is_black_week_event',\n",
       " 'is_percentage_on_top_applicable']"
      ]
     },
     "execution_count": 6,
     "metadata": {},
     "output_type": "execute_result"
    }
   ],
   "source": [
    "# taking intersection of forward and backward\n",
    "list(set(selected_forward).intersection(selected_backward))"
   ]
  },
  {
   "cell_type": "code",
   "execution_count": 7,
   "id": "d9a7b0a9",
   "metadata": {},
   "outputs": [
    {
     "name": "stdout",
     "output_type": "stream",
     "text": [
      "Total features 17\n"
     ]
    },
    {
     "data": {
      "text/plain": [
       "['target_cpr',\n",
       " 'stock_discount_rate_total_%',\n",
       " 'is_email_campaign_type_deal',\n",
       " 'email_visits',\n",
       " 'internal_Week_of_FW_Season',\n",
       " 'is_temp_drop_flag',\n",
       " 'number_orders',\n",
       " 'email_recipients',\n",
       " 'cpc',\n",
       " 'available_stock_value_after_discount_complete_eur',\n",
       " 'avg_temp',\n",
       " 'internal_Week_of_SS_Season',\n",
       " 'is_black_week_event',\n",
       " 'is_percentage_on_top_applicable',\n",
       " 'number_visits',\n",
       " 'is_season_sale_event',\n",
       " 'cr_tracked_%']"
      ]
     },
     "execution_count": 7,
     "metadata": {},
     "output_type": "execute_result"
    }
   ],
   "source": [
    "# add both \n",
    "all_feature_selected_by_selector = selected_forward + selected_backward\n",
    "all_feature_selected_by_selector = list(set(all_feature_selected_by_selector))\n",
    "print('Total features', len(all_feature_selected_by_selector))\n",
    "all_feature_selected_by_selector"
   ]
  },
  {
   "cell_type": "code",
   "execution_count": null,
   "id": "5b3ba7c6",
   "metadata": {},
   "outputs": [],
   "source": []
  },
  {
   "cell_type": "code",
   "execution_count": null,
   "id": "33ae58b3",
   "metadata": {},
   "outputs": [],
   "source": []
  },
  {
   "cell_type": "code",
   "execution_count": 8,
   "id": "402602f0",
   "metadata": {},
   "outputs": [
    {
     "data": {
      "text/plain": [
       "['stock_discount_rate_total_%',\n",
       " 'email_visits',\n",
       " 'internal_Week_of_FW_Season',\n",
       " 'is_temp_drop_flag',\n",
       " 'number_orders',\n",
       " 'cpc',\n",
       " 'available_stock_value_after_discount_complete_eur',\n",
       " 'internal_Week_of_SS_Season',\n",
       " 'is_black_week_event',\n",
       " 'is_percentage_on_top_applicable']"
      ]
     },
     "execution_count": 8,
     "metadata": {},
     "output_type": "execute_result"
    }
   ],
   "source": [
    "# taking intersection of forward and backward\n",
    "list(set(selected_forward).intersection(selected_backward))\n"
   ]
  },
  {
   "cell_type": "code",
   "execution_count": 9,
   "id": "d37f2fb5",
   "metadata": {},
   "outputs": [
    {
     "name": "stdout",
     "output_type": "stream",
     "text": [
      "Total features 27\n"
     ]
    },
    {
     "data": {
      "text/plain": [
       "['available_stock_value_after_discount_complete_eur',\n",
       " 'avg_temp',\n",
       " 'cpc',\n",
       " 'email_visits',\n",
       " 'internal_Week_of_FW_Season',\n",
       " 'internal_Week_of_SS_Season',\n",
       " 'is_black_week_event',\n",
       " 'is_email_campaign_type_deal',\n",
       " 'is_percentage_on_top_applicable',\n",
       " 'is_temp_drop_flag',\n",
       " 'number_orders',\n",
       " 'number_visits',\n",
       " 'stock_discount_rate_total_%',\n",
       " 'available_stock_value_after_discount_complete_eur',\n",
       " 'cpc',\n",
       " 'cr_tracked_%',\n",
       " 'email_recipients',\n",
       " 'email_visits',\n",
       " 'internal_Week_of_FW_Season',\n",
       " 'internal_Week_of_SS_Season',\n",
       " 'is_black_week_event',\n",
       " 'is_percentage_on_top_applicable',\n",
       " 'is_season_sale_event',\n",
       " 'is_temp_drop_flag',\n",
       " 'number_orders',\n",
       " 'stock_discount_rate_total_%',\n",
       " 'target_cpr']"
      ]
     },
     "execution_count": 9,
     "metadata": {},
     "output_type": "execute_result"
    }
   ],
   "source": [
    "# add both \n",
    "all_feature_selected_by_selector = selected_forward + selected_backward\n",
    "print('Total features', len(all_feature_selected_by_selector))\n",
    "all_feature_selected_by_selector"
   ]
  },
  {
   "cell_type": "code",
   "execution_count": 10,
   "id": "13f3f74a",
   "metadata": {},
   "outputs": [
    {
     "data": {
      "text/plain": [
       "aov_eur                                              0\n",
       "available_stock_value_after_discount_complete_eur    0\n",
       "avg_temp                                             0\n",
       "cpc                                                  0\n",
       "cr_tracked_%                                         0\n",
       "email_recipients                                     0\n",
       "email_visits                                         0\n",
       "internalWeeks_until_SeasonalSaleStart                0\n",
       "internal_Week_of_FW_Season                           0\n",
       "internal_Week_of_SS_Season                           0\n",
       "is_Peak_Driving_Public_Holiday_week                  0\n",
       "is_Sun_to_Mon_Shift_week                             0\n",
       "is_black_week_event                                  0\n",
       "is_email_campaign_type_deal                          0\n",
       "is_email_campaign_type_liveshop                      0\n",
       "is_email_campaign_type_newsletter                    0\n",
       "is_percentage_on_top                                 0\n",
       "is_percentage_on_top_applicable                      0\n",
       "is_season_sale_event                                 0\n",
       "is_temp_drop_flag                                    0\n",
       "number_days_after_last_event                         0\n",
       "number_days_till_next_event                          0\n",
       "number_orders                                        0\n",
       "number_visits                                        0\n",
       "sku_with_discount_%                                  0\n",
       "stock_discount_rate_total_%                          0\n",
       "target_cpr                                           0\n",
       "marketing_cost                                       0\n",
       "dtype: int64"
      ]
     },
     "execution_count": 10,
     "metadata": {},
     "output_type": "execute_result"
    }
   ],
   "source": [
    "df.isna().sum()"
   ]
  },
  {
   "cell_type": "code",
   "execution_count": 11,
   "id": "3b75c6bf",
   "metadata": {},
   "outputs": [
    {
     "name": "stdout",
     "output_type": "stream",
     "text": [
      "<class 'pandas.core.frame.DataFrame'>\n",
      "DatetimeIndex: 171 entries, 2022-03-21 to 2025-06-23\n",
      "Data columns (total 27 columns):\n",
      " #   Column                                             Non-Null Count  Dtype  \n",
      "---  ------                                             --------------  -----  \n",
      " 0   available_stock_value_after_discount_complete_eur  171 non-null    float64\n",
      " 1   avg_temp                                           171 non-null    float64\n",
      " 2   cpc                                                171 non-null    float64\n",
      " 3   email_visits                                       171 non-null    float64\n",
      " 4   internal_Week_of_FW_Season                         171 non-null    float64\n",
      " 5   internal_Week_of_SS_Season                         171 non-null    float64\n",
      " 6   is_black_week_event                                171 non-null    float64\n",
      " 7   is_email_campaign_type_deal                        171 non-null    float64\n",
      " 8   is_percentage_on_top_applicable                    171 non-null    float64\n",
      " 9   is_temp_drop_flag                                  171 non-null    float64\n",
      " 10  number_orders                                      171 non-null    float64\n",
      " 11  number_visits                                      171 non-null    float64\n",
      " 12  stock_discount_rate_total_%                        171 non-null    float64\n",
      " 13  available_stock_value_after_discount_complete_eur  171 non-null    float64\n",
      " 14  cpc                                                171 non-null    float64\n",
      " 15  cr_tracked_%                                       171 non-null    float64\n",
      " 16  email_recipients                                   171 non-null    float64\n",
      " 17  email_visits                                       171 non-null    float64\n",
      " 18  internal_Week_of_FW_Season                         171 non-null    float64\n",
      " 19  internal_Week_of_SS_Season                         171 non-null    float64\n",
      " 20  is_black_week_event                                171 non-null    float64\n",
      " 21  is_percentage_on_top_applicable                    171 non-null    float64\n",
      " 22  is_season_sale_event                               171 non-null    float64\n",
      " 23  is_temp_drop_flag                                  171 non-null    float64\n",
      " 24  number_orders                                      171 non-null    float64\n",
      " 25  stock_discount_rate_total_%                        171 non-null    float64\n",
      " 26  target_cpr                                         171 non-null    float64\n",
      "dtypes: float64(27)\n",
      "memory usage: 41.5 KB\n"
     ]
    }
   ],
   "source": [
    "df[all_feature_selected_by_selector].info()"
   ]
  },
  {
   "cell_type": "code",
   "execution_count": 12,
   "id": "3d29b025",
   "metadata": {},
   "outputs": [
    {
     "name": "stdout",
     "output_type": "stream",
     "text": [
      "available_stock_value_after_discount_complete_eur <class 'str'>\n",
      "avg_temp <class 'str'>\n",
      "cpc <class 'str'>\n",
      "email_visits <class 'str'>\n",
      "internal_Week_of_FW_Season <class 'str'>\n",
      "internal_Week_of_SS_Season <class 'str'>\n",
      "is_black_week_event <class 'str'>\n",
      "is_email_campaign_type_deal <class 'str'>\n",
      "is_percentage_on_top_applicable <class 'str'>\n",
      "is_temp_drop_flag <class 'str'>\n",
      "number_orders <class 'str'>\n",
      "number_visits <class 'str'>\n",
      "stock_discount_rate_total_% <class 'str'>\n",
      "available_stock_value_after_discount_complete_eur <class 'str'>\n",
      "cpc <class 'str'>\n",
      "cr_tracked_% <class 'str'>\n",
      "email_recipients <class 'str'>\n",
      "email_visits <class 'str'>\n",
      "internal_Week_of_FW_Season <class 'str'>\n",
      "internal_Week_of_SS_Season <class 'str'>\n",
      "is_black_week_event <class 'str'>\n",
      "is_percentage_on_top_applicable <class 'str'>\n",
      "is_season_sale_event <class 'str'>\n",
      "is_temp_drop_flag <class 'str'>\n",
      "number_orders <class 'str'>\n",
      "stock_discount_rate_total_% <class 'str'>\n",
      "target_cpr <class 'str'>\n"
     ]
    }
   ],
   "source": [
    "# Debug: what types are in your feature list?\n",
    "for f in all_feature_selected_by_selector:\n",
    "    print(f, type(f))"
   ]
  },
  {
   "cell_type": "code",
   "execution_count": 13,
   "id": "b3ae52e5",
   "metadata": {},
   "outputs": [
    {
     "name": "stdout",
     "output_type": "stream",
     "text": [
      "available_stock_value_after_discount_complete_eur    float64\n",
      "avg_temp                                             float64\n",
      "cpc                                                  float64\n",
      "email_visits                                         float64\n",
      "internal_Week_of_FW_Season                           float64\n",
      "internal_Week_of_SS_Season                           float64\n",
      "is_black_week_event                                  float64\n",
      "is_email_campaign_type_deal                          float64\n",
      "is_percentage_on_top_applicable                      float64\n",
      "is_temp_drop_flag                                    float64\n",
      "number_orders                                        float64\n",
      "number_visits                                        float64\n",
      "stock_discount_rate_total_%                          float64\n",
      "available_stock_value_after_discount_complete_eur    float64\n",
      "cpc                                                  float64\n",
      "cr_tracked_%                                         float64\n",
      "email_recipients                                     float64\n",
      "email_visits                                         float64\n",
      "internal_Week_of_FW_Season                           float64\n",
      "internal_Week_of_SS_Season                           float64\n",
      "is_black_week_event                                  float64\n",
      "is_percentage_on_top_applicable                      float64\n",
      "is_season_sale_event                                 float64\n",
      "is_temp_drop_flag                                    float64\n",
      "number_orders                                        float64\n",
      "stock_discount_rate_total_%                          float64\n",
      "target_cpr                                           float64\n",
      "dtype: object\n"
     ]
    }
   ],
   "source": [
    "print(df[all_feature_selected_by_selector].dtypes)"
   ]
  },
  {
   "cell_type": "markdown",
   "id": "1ebe87c4",
   "metadata": {},
   "source": [
    "- Duplicates features are there"
   ]
  },
  {
   "cell_type": "code",
   "execution_count": 14,
   "id": "c995bb24",
   "metadata": {},
   "outputs": [
    {
     "data": {
      "text/plain": [
       "17"
      ]
     },
     "execution_count": 14,
     "metadata": {},
     "output_type": "execute_result"
    }
   ],
   "source": [
    "len(list(set(all_feature_selected_by_selector)))"
   ]
  },
  {
   "cell_type": "code",
   "execution_count": 15,
   "id": "0d818b2a",
   "metadata": {},
   "outputs": [
    {
     "data": {
      "text/plain": [
       "['target_cpr',\n",
       " 'stock_discount_rate_total_%',\n",
       " 'is_email_campaign_type_deal',\n",
       " 'email_visits',\n",
       " 'internal_Week_of_FW_Season',\n",
       " 'is_temp_drop_flag',\n",
       " 'number_orders',\n",
       " 'email_recipients',\n",
       " 'cpc',\n",
       " 'available_stock_value_after_discount_complete_eur',\n",
       " 'avg_temp',\n",
       " 'internal_Week_of_SS_Season',\n",
       " 'is_black_week_event',\n",
       " 'is_percentage_on_top_applicable',\n",
       " 'number_visits',\n",
       " 'is_season_sale_event',\n",
       " 'cr_tracked_%']"
      ]
     },
     "execution_count": 15,
     "metadata": {},
     "output_type": "execute_result"
    }
   ],
   "source": [
    "list(set(all_feature_selected_by_selector))"
   ]
  },
  {
   "cell_type": "code",
   "execution_count": null,
   "id": "8cf8dcdc",
   "metadata": {},
   "outputs": [],
   "source": []
  },
  {
   "cell_type": "code",
   "execution_count": null,
   "id": "9c983d10",
   "metadata": {},
   "outputs": [],
   "source": []
  },
  {
   "cell_type": "code",
   "execution_count": null,
   "id": "97368c24",
   "metadata": {},
   "outputs": [],
   "source": []
  },
  {
   "cell_type": "code",
   "execution_count": null,
   "id": "f4c1c749",
   "metadata": {},
   "outputs": [],
   "source": []
  },
  {
   "cell_type": "code",
   "execution_count": null,
   "id": "9e5be1ef",
   "metadata": {},
   "outputs": [],
   "source": []
  },
  {
   "cell_type": "code",
   "execution_count": null,
   "id": "1270d27a",
   "metadata": {},
   "outputs": [],
   "source": []
  }
 ],
 "metadata": {
  "kernelspec": {
   "display_name": ".venv",
   "language": "python",
   "name": "python3"
  },
  "language_info": {
   "codemirror_mode": {
    "name": "ipython",
    "version": 3
   },
   "file_extension": ".py",
   "mimetype": "text/x-python",
   "name": "python",
   "nbconvert_exporter": "python",
   "pygments_lexer": "ipython3",
   "version": "3.13.2"
  }
 },
 "nbformat": 4,
 "nbformat_minor": 5
}
