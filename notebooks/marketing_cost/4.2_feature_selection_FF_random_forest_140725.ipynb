{
 "cells": [
  {
   "cell_type": "markdown",
   "id": "151717e6",
   "metadata": {},
   "source": [
    "# Feature Selection for Random Forest Model"
   ]
  },
  {
   "cell_type": "code",
   "execution_count": 1,
   "id": "88173254",
   "metadata": {},
   "outputs": [],
   "source": [
    "import pandas as pd\n",
    "from sklearn.linear_model import LinearRegression\n",
    "from sklearn.feature_selection import SequentialFeatureSelector\n",
    "from sklearn.metrics import mean_squared_error"
   ]
  },
  {
   "cell_type": "code",
   "execution_count": 2,
   "metadata": {},
   "outputs": [
    {
     "name": "stdout",
     "output_type": "stream",
     "text": [
      "Training data range 2023-05-08 00:00:00 2025-04-28 00:00:00\n",
      "Validation data range 2025-05-05 00:00:00 2025-06-23 00:00:00\n"
     ]
    }
   ],
   "source": [
    "DATA_PATH = 'Data_for_taining_14072025.csv'\n",
    "TARGET = 'marketing_cost'\n",
    "FEATURES = [\n",
    "        'aov_eur',\n",
    "        'available_stock_value_after_discount_complete_eur',\n",
    "        'avg_temp',\n",
    "        'cpc',\n",
    "        'cr_tracked_%',\n",
    "        'email_recipients',\n",
    "        'email_visits',\n",
    "        'internalWeeks_until_SeasonalSaleStart',\n",
    "        'internal_Week_of_FW_Season',\n",
    "        'internal_Week_of_SS_Season',\n",
    "        'is_Peak_Driving_Public_Holiday_week',\n",
    "        'is_Sun_to_Mon_Shift_week',\n",
    "        'is_black_week_event',\n",
    "        'is_email_campaign_type_deal',\n",
    "        'is_email_campaign_type_liveshop',\n",
    "        'is_email_campaign_type_newsletter',\n",
    "        'is_percentage_on_top',\n",
    "        'is_percentage_on_top_applicable',\n",
    "        'is_season_sale_event',\n",
    "        'is_temp_drop_flag',\n",
    "        'number_days_after_last_event',\n",
    "        'number_days_till_next_event',\n",
    "        'number_orders',\n",
    "        'number_visits',\n",
    "        'sku_with_discount_%',\n",
    "        'stock_discount_rate_total_%',\n",
    "        'target_cpr'\n",
    "]\n",
    "\n",
    "df = pd.read_csv(DATA_PATH)\n",
    "df.rename(columns={'Unnamed: 0': 'date'}, inplace=True)\n",
    "df['date'] = pd.to_datetime(df['date'])\n",
    "df.sort_values('date', inplace=True)\n",
    "df.set_index('date', inplace=True)\n",
    "df = df.iloc[1:-1]  # drop first and last week\n",
    "\n",
    "number_of_weeks_to_be_consider = 104\n",
    "val = df.iloc[-8:]\n",
    "val_start = val.index[0]\n",
    "train_1y = df.loc[val_start - pd.DateOffset(weeks=number_of_weeks_to_be_consider) : val_start - pd.DateOffset(weeks=1)]\n",
    "\n",
    "X_train = train_1y[FEATURES]\n",
    "y_train = train_1y[TARGET]\n",
    "X_valid = val[FEATURES]\n",
    "y_valid = val[TARGET]\n",
    "\n",
    "print('Training data range', X_train.index.min(), X_train.index.max())\n",
    "print('Validation data range', X_valid.index.min(), X_valid.index.max())"
   ]
  },
  {
   "cell_type": "code",
   "execution_count": 3,
   "id": "99a5490f",
   "metadata": {},
   "outputs": [
    {
     "name": "stdout",
     "output_type": "stream",
     "text": [
      "Forward‑selected features: ['available_stock_value_after_discount_complete_eur', 'avg_temp', 'cpc', 'internal_Week_of_SS_Season', 'is_Peak_Driving_Public_Holiday_week', 'is_Sun_to_Mon_Shift_week', 'is_email_campaign_type_newsletter', 'is_percentage_on_top', 'is_percentage_on_top_applicable', 'is_season_sale_event', 'number_orders', 'number_visits', 'stock_discount_rate_total_%']\n"
     ]
    }
   ],
   "source": [
    "# --- feature selection setup ---\n",
    "from tabnanny import verbose\n",
    "from sklearn.ensemble import RandomForestRegressor, GradientBoostingRegressor\n",
    "\n",
    "base_model = RandomForestRegressor(random_state=42, n_estimators=300, max_depth=7, min_samples_split=0.04)\n",
    "\n",
    "# forward selection: add features one at a time\n",
    "sfs_forward = SequentialFeatureSelector(\n",
    "    base_model,\n",
    "    n_features_to_select='auto',        # let it choose until score stops improving\n",
    "    direction='forward',\n",
    "    scoring='neg_mean_squared_error',\n",
    "    cv=5,                               # 5‑fold CV inside the selector\n",
    "    n_jobs=-1\n",
    ")\n",
    "sfs_forward.fit(X_train, y_train)\n",
    "selected_forward = list(X_train.columns[sfs_forward.get_support()])\n",
    "print(\"Forward‑selected features:\", selected_forward)"
   ]
  },
  {
   "cell_type": "code",
   "execution_count": 4,
   "id": "708be7cd",
   "metadata": {},
   "outputs": [
    {
     "name": "stdout",
     "output_type": "stream",
     "text": [
      "Backward‑selected features: ['available_stock_value_after_discount_complete_eur', 'avg_temp', 'cpc', 'internalWeeks_until_SeasonalSaleStart', 'internal_Week_of_SS_Season', 'is_Peak_Driving_Public_Holiday_week', 'is_Sun_to_Mon_Shift_week', 'is_email_campaign_type_liveshop', 'is_email_campaign_type_newsletter', 'is_percentage_on_top_applicable', 'is_temp_drop_flag', 'number_days_after_last_event', 'number_orders', 'number_visits']\n"
     ]
    }
   ],
   "source": [
    "# backward selection: remove features one at a time\n",
    "sfs_backward = SequentialFeatureSelector(\n",
    "    base_model,\n",
    "    n_features_to_select='auto',\n",
    "    direction='backward',\n",
    "    scoring='neg_mean_squared_error',\n",
    "    cv=5,\n",
    "    n_jobs=-1\n",
    ")\n",
    "sfs_backward.fit(X_train, y_train)\n",
    "selected_backward = list(X_train.columns[sfs_backward.get_support()])\n",
    "print(\"Backward‑selected features:\", selected_backward)"
   ]
  },
  {
   "cell_type": "code",
   "execution_count": 9,
   "id": "d5692ae8",
   "metadata": {},
   "outputs": [],
   "source": [
    "from sklearn.metrics import (\n",
    "    mean_absolute_error,\n",
    "    mean_squared_error,\n",
    "    r2_score,\n",
    "    mean_absolute_percentage_error,\n",
    "    explained_variance_score\n",
    ")"
   ]
  },
  {
   "cell_type": "code",
   "execution_count": 11,
   "id": "b7746213",
   "metadata": {},
   "outputs": [
    {
     "name": "stdout",
     "output_type": "stream",
     "text": [
      "Validation MSE (forward): 1349698380.7548\n",
      "Validation R2 (forward): 0.3442\n",
      "Validation MSE (backward): 1467267684.5718\n",
      "Validation R2 (backward): 0.2871\n"
     ]
    }
   ],
   "source": [
    "# --- evaluate both on the hold‑out validation set ---\n",
    "def train_and_eval(features):\n",
    "    result_dict = {}\n",
    "    mdl = RandomForestRegressor(random_state=42, n_estimators=300, max_depth=7, min_samples_split=0.04).fit(X_train[features], y_train)\n",
    "    preds = mdl.predict(X_valid[features])\n",
    "    mse = mean_squared_error(y_valid, preds)\n",
    "    r2 = r2_score(y_valid, preds)\n",
    "    result_dict['r2'] = r2\n",
    "    result_dict['mse'] = mse\n",
    "    return result_dict\n",
    "\n",
    "mse_fwd = train_and_eval(selected_forward)\n",
    "mse_bwd = train_and_eval(selected_backward)\n",
    "\n",
    "print(f\"Validation MSE (forward): {mse_fwd['mse']:.4f}\")\n",
    "print(f\"Validation R2 (forward): {mse_fwd['r2']:.4f}\")\n",
    "\n",
    "print(f\"Validation MSE (backward): {mse_bwd['mse']:.4f}\")\n",
    "print(f\"Validation R2 (backward): {mse_bwd['r2']:.4f}\")\n"
   ]
  },
  {
   "cell_type": "code",
   "execution_count": 6,
   "id": "402602f0",
   "metadata": {},
   "outputs": [
    {
     "data": {
      "text/plain": [
       "['number_visits',\n",
       " 'cpc',\n",
       " 'available_stock_value_after_discount_complete_eur',\n",
       " 'is_email_campaign_type_newsletter',\n",
       " 'number_orders',\n",
       " 'avg_temp',\n",
       " 'is_Sun_to_Mon_Shift_week',\n",
       " 'is_percentage_on_top_applicable',\n",
       " 'internal_Week_of_SS_Season',\n",
       " 'is_Peak_Driving_Public_Holiday_week']"
      ]
     },
     "execution_count": 6,
     "metadata": {},
     "output_type": "execute_result"
    }
   ],
   "source": [
    "# taking intersection of forward and backward\n",
    "list(set(selected_forward).intersection(selected_backward))"
   ]
  },
  {
   "cell_type": "code",
   "execution_count": 12,
   "id": "d37f2fb5",
   "metadata": {},
   "outputs": [
    {
     "name": "stdout",
     "output_type": "stream",
     "text": [
      "Total features 17\n"
     ]
    },
    {
     "data": {
      "text/plain": [
       "['number_visits',\n",
       " 'is_temp_drop_flag',\n",
       " 'cpc',\n",
       " 'available_stock_value_after_discount_complete_eur',\n",
       " 'is_email_campaign_type_newsletter',\n",
       " 'number_orders',\n",
       " 'is_percentage_on_top',\n",
       " 'number_days_after_last_event',\n",
       " 'avg_temp',\n",
       " 'is_Sun_to_Mon_Shift_week',\n",
       " 'is_email_campaign_type_liveshop',\n",
       " 'stock_discount_rate_total_%',\n",
       " 'is_percentage_on_top_applicable',\n",
       " 'internalWeeks_until_SeasonalSaleStart',\n",
       " 'is_season_sale_event',\n",
       " 'internal_Week_of_SS_Season',\n",
       " 'is_Peak_Driving_Public_Holiday_week']"
      ]
     },
     "execution_count": 12,
     "metadata": {},
     "output_type": "execute_result"
    }
   ],
   "source": [
    "# add both \n",
    "all_feature_selected_by_selector = selected_forward + selected_backward\n",
    "all_feature_selected_by_selector = list(set(all_feature_selected_by_selector))\n",
    "print('Total features', len(all_feature_selected_by_selector))\n",
    "all_feature_selected_by_selector"
   ]
  },
  {
   "cell_type": "code",
   "execution_count": 8,
   "id": "13f3f74a",
   "metadata": {},
   "outputs": [
    {
     "data": {
      "text/plain": [
       "aov_eur                                              0\n",
       "available_stock_value_after_discount_complete_eur    0\n",
       "avg_temp                                             0\n",
       "cpc                                                  0\n",
       "cr_tracked_%                                         0\n",
       "email_recipients                                     0\n",
       "email_visits                                         0\n",
       "internalWeeks_until_SeasonalSaleStart                0\n",
       "internal_Week_of_FW_Season                           0\n",
       "internal_Week_of_SS_Season                           0\n",
       "is_Peak_Driving_Public_Holiday_week                  0\n",
       "is_Sun_to_Mon_Shift_week                             0\n",
       "is_black_week_event                                  0\n",
       "is_email_campaign_type_deal                          0\n",
       "is_email_campaign_type_liveshop                      0\n",
       "is_email_campaign_type_newsletter                    0\n",
       "is_percentage_on_top                                 0\n",
       "is_percentage_on_top_applicable                      0\n",
       "is_season_sale_event                                 0\n",
       "is_temp_drop_flag                                    0\n",
       "number_days_after_last_event                         0\n",
       "number_days_till_next_event                          0\n",
       "number_orders                                        0\n",
       "number_visits                                        0\n",
       "sku_with_discount_%                                  0\n",
       "stock_discount_rate_total_%                          0\n",
       "target_cpr                                           0\n",
       "marketing_cost                                       0\n",
       "dtype: int64"
      ]
     },
     "execution_count": 8,
     "metadata": {},
     "output_type": "execute_result"
    }
   ],
   "source": [
    "df.isna().sum()"
   ]
  },
  {
   "cell_type": "code",
   "execution_count": 9,
   "id": "3b75c6bf",
   "metadata": {},
   "outputs": [
    {
     "name": "stdout",
     "output_type": "stream",
     "text": [
      "<class 'pandas.core.frame.DataFrame'>\n",
      "DatetimeIndex: 124 entries, 2023-02-13 to 2025-06-23\n",
      "Data columns (total 16 columns):\n",
      " #   Column                           Non-Null Count  Dtype  \n",
      "---  ------                           --------------  -----  \n",
      " 0   is_email_campaign_type_deal      124 non-null    float64\n",
      " 1   is_season_sale_event             124 non-null    float64\n",
      " 2   marketing_budget                 124 non-null    float64\n",
      " 3   is_black_week_event              124 non-null    float64\n",
      " 4   is_email_campaign_type_liveshop  124 non-null    float64\n",
      " 5   number_visits                    124 non-null    float64\n",
      " 6   avg_temp                         124 non-null    float64\n",
      " 7   cpc                              124 non-null    float64\n",
      " 8   email_visits                     124 non-null    float64\n",
      " 9   number_days_till_next_event      124 non-null    float64\n",
      " 10  cr_tracked_%                     124 non-null    float64\n",
      " 11  number_orders                    124 non-null    float64\n",
      " 12  is_percentage_on_top             124 non-null    float64\n",
      " 13  is_percentage_on_top_applicable  124 non-null    float64\n",
      " 14  email_recipients                 124 non-null    float64\n",
      " 15  number_days_after_last_event     124 non-null    float64\n",
      "dtypes: float64(16)\n",
      "memory usage: 20.5 KB\n"
     ]
    }
   ],
   "source": [
    "df[all_feature_selected_by_selector].info()"
   ]
  },
  {
   "cell_type": "code",
   "execution_count": 10,
   "id": "3d29b025",
   "metadata": {},
   "outputs": [
    {
     "name": "stdout",
     "output_type": "stream",
     "text": [
      "is_email_campaign_type_deal <class 'str'>\n",
      "is_season_sale_event <class 'str'>\n",
      "marketing_budget <class 'str'>\n",
      "is_black_week_event <class 'str'>\n",
      "is_email_campaign_type_liveshop <class 'str'>\n",
      "number_visits <class 'str'>\n",
      "avg_temp <class 'str'>\n",
      "cpc <class 'str'>\n",
      "email_visits <class 'str'>\n",
      "number_days_till_next_event <class 'str'>\n",
      "cr_tracked_% <class 'str'>\n",
      "number_orders <class 'str'>\n",
      "is_percentage_on_top <class 'str'>\n",
      "is_percentage_on_top_applicable <class 'str'>\n",
      "email_recipients <class 'str'>\n",
      "number_days_after_last_event <class 'str'>\n"
     ]
    }
   ],
   "source": [
    "# Debug: what types are in your feature list?\n",
    "for f in all_feature_selected_by_selector:\n",
    "    print(f, type(f))"
   ]
  },
  {
   "cell_type": "code",
   "execution_count": 11,
   "metadata": {},
   "outputs": [
    {
     "name": "stdout",
     "output_type": "stream",
     "text": [
      "is_email_campaign_type_deal        float64\n",
      "is_season_sale_event               float64\n",
      "marketing_budget                   float64\n",
      "is_black_week_event                float64\n",
      "is_email_campaign_type_liveshop    float64\n",
      "number_visits                      float64\n",
      "avg_temp                           float64\n",
      "cpc                                float64\n",
      "email_visits                       float64\n",
      "number_days_till_next_event        float64\n",
      "cr_tracked_%                       float64\n",
      "number_orders                      float64\n",
      "is_percentage_on_top               float64\n",
      "is_percentage_on_top_applicable    float64\n",
      "email_recipients                   float64\n",
      "number_days_after_last_event       float64\n",
      "dtype: object\n"
     ]
    }
   ],
   "source": [
    "print(df[all_feature_selected_by_selector].dtypes)"
   ]
  },
  {
   "cell_type": "markdown",
   "id": "1ebe87c4",
   "metadata": {},
   "source": [
    "- Duplicates features are there"
   ]
  },
  {
   "cell_type": "code",
   "execution_count": 12,
   "metadata": {},
   "outputs": [
    {
     "data": {
      "text/plain": [
       "16"
      ]
     },
     "execution_count": 12,
     "metadata": {},
     "output_type": "execute_result"
    }
   ],
   "source": [
    "len(list(set(all_feature_selected_by_selector)))"
   ]
  },
  {
   "cell_type": "code",
   "execution_count": 13,
   "metadata": {},
   "outputs": [
    {
     "data": {
      "text/plain": [
       "['is_email_campaign_type_deal',\n",
       " 'is_season_sale_event',\n",
       " 'marketing_budget',\n",
       " 'is_black_week_event',\n",
       " 'is_email_campaign_type_liveshop',\n",
       " 'number_visits',\n",
       " 'avg_temp',\n",
       " 'cpc',\n",
       " 'email_visits',\n",
       " 'number_days_till_next_event',\n",
       " 'cr_tracked_%',\n",
       " 'number_orders',\n",
       " 'is_percentage_on_top',\n",
       " 'is_percentage_on_top_applicable',\n",
       " 'email_recipients',\n",
       " 'number_days_after_last_event']"
      ]
     },
     "execution_count": 13,
     "metadata": {},
     "output_type": "execute_result"
    }
   ],
   "source": [
    "list(set(all_feature_selected_by_selector))"
   ]
  }
 ],
 "metadata": {
  "kernelspec": {
   "display_name": ".venv",
   "language": "python",
   "name": "python3"
  },
  "language_info": {
   "codemirror_mode": {
    "name": "ipython",
    "version": 3
   },
   "file_extension": ".py",
   "mimetype": "text/x-python",
   "name": "python",
   "nbconvert_exporter": "python",
   "pygments_lexer": "ipython3",
   "version": "3.13.2"
  }
 },
 "nbformat": 4,
 "nbformat_minor": 5
}
